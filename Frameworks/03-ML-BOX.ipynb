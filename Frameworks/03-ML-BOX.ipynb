{
 "cells": [
  {
   "cell_type": "markdown",
   "id": "numerous-hungarian",
   "metadata": {},
   "source": [
    "\n",
    "# ML-BOX\n",
    "\n",
    "\n",
    "[MLBox](https://mlbox.readthedocs.io/en/latest/index.html) es una potente libreria de AutoML que proporciona las siguientes características:\n",
    "\n",
    "- Lectura rápida y preprocesamiento/limpieza/formateo de datos distribuidos\n",
    "\n",
    "- Una robusta selección de features, así como, una precisa optmización de hiper-parámetros\n",
    "\n",
    "- Modelos predicctivos de última generación para Clasificación y Regresión (Deep Learning, Stacking, LightGBM,...)\n",
    "   \n",
    "- Predicción con interpretación del modelo\n",
    "    \n",
    "MLBox se centra en tres puntos en particular en comparación con las otros frameworks:\n",
    "\n",
    "- Drift Identification: Un método para hacer que la distribución de los datos de entrenamiento sea similar a la de los datos de prueba.\n",
    "    \n",
    "- Entity Embedding: Una técnica de codificación de características categóricas inspirada en word2vec.\n",
    "    \n",
    "- Optimización de hiperparámetros\n",
    "\n",
    "\n",
    "### Arquitectura de MLBox \n",
    "\n",
    "![](https://cdn.analyticsvidhya.com/wp-content/uploads/2017/07/03230616/Screenshot-from-2017-07-03-23-05-23.png)\n",
    "\n",
    "El paquete principal de MLBox contiene 3 subpaquetes:\n",
    "\n",
    "- Pre-processing: lectura y preprocesamiento de datos\n",
    "\n",
    "- Optimization: prueba u optimización de una amplia gama de aprendices\n",
    "    \n",
    "- Prediction: predicción del objetivo en un conjunto de datos de prueba\n",
    "    "
   ]
  },
  {
   "cell_type": "markdown",
   "id": "2cec9379",
   "metadata": {},
   "source": [
    "## Instalación\n",
    "\n",
    "Mlbox cuenta con un paquete de instalación dentro de pip por lo que su instalación es muy sencilla. Destacar que es necesario de dos librerias adicionesles (setuptools y wheel) para su funcionamiento"
   ]
  },
  {
   "cell_type": "code",
   "execution_count": 1,
   "id": "adaptive-louis",
   "metadata": {
    "scrolled": true
   },
   "outputs": [
    {
     "name": "stdout",
     "output_type": "stream",
     "text": [
      "Requirement already satisfied: setuptools in /usr/local/lib/python3.7/site-packages (53.0.0)\n",
      "Requirement already satisfied: wheel in /usr/local/lib/python3.7/site-packages (0.36.2)\n",
      "Requirement already satisfied: mlbox in /usr/local/lib/python3.7/site-packages (0.8.5)\n",
      "Requirement already satisfied: pandas==0.25.3 in /usr/local/lib/python3.7/site-packages (from mlbox) (0.25.3)\n",
      "Requirement already satisfied: matplotlib==3.0.3 in /usr/local/lib/python3.7/site-packages (from mlbox) (3.0.3)\n",
      "Requirement already satisfied: tensorflow==2.0.0 in /usr/local/lib/python3.7/site-packages (from mlbox) (2.0.0)\n",
      "Requirement already satisfied: scipy==1.4.1 in /usr/local/lib/python3.7/site-packages (from mlbox) (1.4.1)\n",
      "Requirement already satisfied: numpy==1.18.2 in /usr/local/lib/python3.7/site-packages (from mlbox) (1.18.2)\n",
      "Requirement already satisfied: scikit-learn==0.22.1 in /usr/local/lib/python3.7/site-packages (from mlbox) (0.22.1)\n",
      "Requirement already satisfied: xlrd==1.2.0 in /usr/local/lib/python3.7/site-packages (from mlbox) (1.2.0)\n",
      "Requirement already satisfied: hyperopt==0.2.3 in /usr/local/lib/python3.7/site-packages (from mlbox) (0.2.3)\n",
      "Requirement already satisfied: joblib==0.14.1 in /usr/local/lib/python3.7/site-packages (from mlbox) (0.14.1)\n",
      "Requirement already satisfied: lightgbm==2.3.1 in /usr/local/lib/python3.7/site-packages (from mlbox) (2.3.1)\n",
      "Requirement already satisfied: tables==3.5.2 in /usr/local/lib/python3.7/site-packages (from mlbox) (3.5.2)\n",
      "Requirement already satisfied: tqdm in /usr/local/lib/python3.7/site-packages (from hyperopt==0.2.3->mlbox) (4.58.0)\n",
      "Requirement already satisfied: networkx==2.2 in /usr/local/lib/python3.7/site-packages (from hyperopt==0.2.3->mlbox) (2.2)\n",
      "Requirement already satisfied: future in /usr/local/lib/python3.7/site-packages (from hyperopt==0.2.3->mlbox) (0.18.2)\n",
      "Requirement already satisfied: cloudpickle in /usr/local/lib/python3.7/site-packages (from hyperopt==0.2.3->mlbox) (1.6.0)\n",
      "Requirement already satisfied: six in /usr/local/lib/python3.7/site-packages (from hyperopt==0.2.3->mlbox) (1.15.0)\n",
      "Requirement already satisfied: kiwisolver>=1.0.1 in /usr/local/lib/python3.7/site-packages (from matplotlib==3.0.3->mlbox) (1.3.1)\n",
      "Requirement already satisfied: pyparsing!=2.0.4,!=2.1.2,!=2.1.6,>=2.0.1 in /usr/local/lib/python3.7/site-packages (from matplotlib==3.0.3->mlbox) (2.4.7)\n",
      "Requirement already satisfied: python-dateutil>=2.1 in /usr/local/lib/python3.7/site-packages (from matplotlib==3.0.3->mlbox) (2.8.1)\n",
      "Requirement already satisfied: cycler>=0.10 in /usr/local/lib/python3.7/site-packages (from matplotlib==3.0.3->mlbox) (0.10.0)\n",
      "Requirement already satisfied: decorator>=4.3.0 in /usr/local/lib/python3.7/site-packages (from networkx==2.2->hyperopt==0.2.3->mlbox) (4.4.2)\n",
      "Requirement already satisfied: pytz>=2017.2 in /usr/local/lib/python3.7/site-packages (from pandas==0.25.3->mlbox) (2021.1)\n",
      "Requirement already satisfied: numexpr>=2.6.2 in /usr/local/lib/python3.7/site-packages (from tables==3.5.2->mlbox) (2.7.2)\n",
      "Requirement already satisfied: mock>=2.0 in /usr/local/lib/python3.7/site-packages (from tables==3.5.2->mlbox) (4.0.3)\n",
      "Requirement already satisfied: google-pasta>=0.1.6 in /usr/local/lib/python3.7/site-packages (from tensorflow==2.0.0->mlbox) (0.2.0)\n",
      "Requirement already satisfied: absl-py>=0.7.0 in /usr/local/lib/python3.7/site-packages (from tensorflow==2.0.0->mlbox) (0.11.0)\n",
      "Requirement already satisfied: opt-einsum>=2.3.2 in /usr/local/lib/python3.7/site-packages (from tensorflow==2.0.0->mlbox) (3.3.0)\n",
      "Requirement already satisfied: tensorboard<2.1.0,>=2.0.0 in /usr/local/lib/python3.7/site-packages (from tensorflow==2.0.0->mlbox) (2.0.2)\n",
      "Requirement already satisfied: protobuf>=3.6.1 in /usr/local/lib/python3.7/site-packages (from tensorflow==2.0.0->mlbox) (3.15.3)\n",
      "Requirement already satisfied: wheel>=0.26 in /usr/local/lib/python3.7/site-packages (from tensorflow==2.0.0->mlbox) (0.36.2)\n",
      "Requirement already satisfied: astor>=0.6.0 in /usr/local/lib/python3.7/site-packages (from tensorflow==2.0.0->mlbox) (0.8.1)\n",
      "Requirement already satisfied: wrapt>=1.11.1 in /usr/local/lib/python3.7/site-packages (from tensorflow==2.0.0->mlbox) (1.12.1)\n",
      "Requirement already satisfied: gast==0.2.2 in /usr/local/lib/python3.7/site-packages (from tensorflow==2.0.0->mlbox) (0.2.2)\n",
      "Requirement already satisfied: keras-applications>=1.0.8 in /usr/local/lib/python3.7/site-packages (from tensorflow==2.0.0->mlbox) (1.0.8)\n",
      "Requirement already satisfied: termcolor>=1.1.0 in /usr/local/lib/python3.7/site-packages (from tensorflow==2.0.0->mlbox) (1.1.0)\n",
      "Requirement already satisfied: keras-preprocessing>=1.0.5 in /usr/local/lib/python3.7/site-packages (from tensorflow==2.0.0->mlbox) (1.1.2)\n",
      "Requirement already satisfied: grpcio>=1.8.6 in /usr/local/lib/python3.7/site-packages (from tensorflow==2.0.0->mlbox) (1.36.0)\n",
      "Requirement already satisfied: tensorflow-estimator<2.1.0,>=2.0.0 in /usr/local/lib/python3.7/site-packages (from tensorflow==2.0.0->mlbox) (2.0.1)\n",
      "Requirement already satisfied: h5py in /usr/local/lib/python3.7/site-packages (from keras-applications>=1.0.8->tensorflow==2.0.0->mlbox) (3.1.0)\n",
      "Requirement already satisfied: google-auth<2,>=1.6.3 in /usr/local/lib/python3.7/site-packages (from tensorboard<2.1.0,>=2.0.0->tensorflow==2.0.0->mlbox) (1.27.0)\n",
      "Requirement already satisfied: markdown>=2.6.8 in /usr/local/lib/python3.7/site-packages (from tensorboard<2.1.0,>=2.0.0->tensorflow==2.0.0->mlbox) (3.3.4)\n",
      "Requirement already satisfied: requests<3,>=2.21.0 in /usr/local/lib/python3.7/site-packages (from tensorboard<2.1.0,>=2.0.0->tensorflow==2.0.0->mlbox) (2.25.1)\n",
      "Requirement already satisfied: werkzeug>=0.11.15 in /usr/local/lib/python3.7/site-packages (from tensorboard<2.1.0,>=2.0.0->tensorflow==2.0.0->mlbox) (1.0.1)\n",
      "Requirement already satisfied: setuptools>=41.0.0 in /usr/local/lib/python3.7/site-packages (from tensorboard<2.1.0,>=2.0.0->tensorflow==2.0.0->mlbox) (53.0.0)\n",
      "Requirement already satisfied: google-auth-oauthlib<0.5,>=0.4.1 in /usr/local/lib/python3.7/site-packages (from tensorboard<2.1.0,>=2.0.0->tensorflow==2.0.0->mlbox) (0.4.2)\n",
      "Requirement already satisfied: cachetools<5.0,>=2.0.0 in /usr/local/lib/python3.7/site-packages (from google-auth<2,>=1.6.3->tensorboard<2.1.0,>=2.0.0->tensorflow==2.0.0->mlbox) (4.2.1)\n",
      "Requirement already satisfied: rsa<5,>=3.1.4 in /usr/local/lib/python3.7/site-packages (from google-auth<2,>=1.6.3->tensorboard<2.1.0,>=2.0.0->tensorflow==2.0.0->mlbox) (4.7.2)\n",
      "Requirement already satisfied: pyasn1-modules>=0.2.1 in /usr/local/lib/python3.7/site-packages (from google-auth<2,>=1.6.3->tensorboard<2.1.0,>=2.0.0->tensorflow==2.0.0->mlbox) (0.2.8)\n",
      "Requirement already satisfied: requests-oauthlib>=0.7.0 in /usr/local/lib/python3.7/site-packages (from google-auth-oauthlib<0.5,>=0.4.1->tensorboard<2.1.0,>=2.0.0->tensorflow==2.0.0->mlbox) (1.3.0)\n",
      "Requirement already satisfied: importlib-metadata in /usr/local/lib/python3.7/site-packages (from markdown>=2.6.8->tensorboard<2.1.0,>=2.0.0->tensorflow==2.0.0->mlbox) (3.7.0)\n",
      "Requirement already satisfied: pyasn1<0.5.0,>=0.4.6 in /usr/local/lib/python3.7/site-packages (from pyasn1-modules>=0.2.1->google-auth<2,>=1.6.3->tensorboard<2.1.0,>=2.0.0->tensorflow==2.0.0->mlbox) (0.4.8)\n",
      "Requirement already satisfied: certifi>=2017.4.17 in /usr/local/lib/python3.7/site-packages (from requests<3,>=2.21.0->tensorboard<2.1.0,>=2.0.0->tensorflow==2.0.0->mlbox) (2020.12.5)\n",
      "Requirement already satisfied: idna<3,>=2.5 in /usr/local/lib/python3.7/site-packages (from requests<3,>=2.21.0->tensorboard<2.1.0,>=2.0.0->tensorflow==2.0.0->mlbox) (2.10)\n",
      "Requirement already satisfied: urllib3<1.27,>=1.21.1 in /usr/local/lib/python3.7/site-packages (from requests<3,>=2.21.0->tensorboard<2.1.0,>=2.0.0->tensorflow==2.0.0->mlbox) (1.26.3)\n",
      "Requirement already satisfied: chardet<5,>=3.0.2 in /usr/local/lib/python3.7/site-packages (from requests<3,>=2.21.0->tensorboard<2.1.0,>=2.0.0->tensorflow==2.0.0->mlbox) (4.0.0)\n",
      "Requirement already satisfied: oauthlib>=3.0.0 in /usr/local/lib/python3.7/site-packages (from requests-oauthlib>=0.7.0->google-auth-oauthlib<0.5,>=0.4.1->tensorboard<2.1.0,>=2.0.0->tensorflow==2.0.0->mlbox) (3.1.0)\n",
      "Requirement already satisfied: cached-property in /usr/local/lib/python3.7/site-packages (from h5py->keras-applications>=1.0.8->tensorflow==2.0.0->mlbox) (1.5.2)\n"
     ]
    },
    {
     "name": "stdout",
     "output_type": "stream",
     "text": [
      "Requirement already satisfied: typing-extensions>=3.6.4 in /usr/local/lib/python3.7/site-packages (from importlib-metadata->markdown>=2.6.8->tensorboard<2.1.0,>=2.0.0->tensorflow==2.0.0->mlbox) (3.7.4.3)\r\n",
      "Requirement already satisfied: zipp>=0.5 in /usr/local/lib/python3.7/site-packages (from importlib-metadata->markdown>=2.6.8->tensorboard<2.1.0,>=2.0.0->tensorflow==2.0.0->mlbox) (3.4.0)\r\n"
     ]
    }
   ],
   "source": [
    "!pip install setuptools\n",
    "!pip install wheel\n",
    "!pip install mlbox"
   ]
  },
  {
   "cell_type": "markdown",
   "id": "73bed046",
   "metadata": {},
   "source": [
    "## Pruebas\n",
    "\n",
    "Para probar el framework se va a utilizar el dataset abierto del Titanic disponible en Kaggle. Estas pruebas se basan en el ejemplo de prueba disponible en la página oficial de Mlbox.\n",
    "\n",
    "Para comenzar a usar mlbox basta con importar sus tres subpaquetes."
   ]
  },
  {
   "cell_type": "code",
   "execution_count": 2,
   "id": "bronze-bottom",
   "metadata": {},
   "outputs": [],
   "source": [
    "from mlbox.preprocessing import *\n",
    "from mlbox.optimisation import *\n",
    "from mlbox.prediction import *"
   ]
  },
  {
   "cell_type": "markdown",
   "id": "9e2ba931",
   "metadata": {},
   "source": [
    "Se declara el path al dataset y la varible objetivo"
   ]
  },
  {
   "cell_type": "code",
   "execution_count": 3,
   "id": "elder-senate",
   "metadata": {},
   "outputs": [],
   "source": [
    "paths = [\"./titanic/train.csv\",\"./titanic/test.csv\"]\n",
    "target_name = \"Survived\""
   ]
  },
  {
   "cell_type": "markdown",
   "id": "actual-bibliography",
   "metadata": {},
   "source": [
    "Lectura y preprocesamiento\n",
    "La clase Reader de MLBox se encarga de preparar los datos.\n",
    "\n",
    "Básicamente proporciona métodos y utilidades para:\n",
    "\n",
    "- Leer los datos (csv, xls, json y h5) y cargarlos\n",
    "- Limpiar los datos mediante:\n",
    "    - Borrado de las columnas sin nombre\n",
    "    - Inferir los tipos de las columnas (float, int, list)\n",
    "    - Procesando las fechas y extrayendo la información relevante de las mismas: año, mes, día, día de la semana, hora, etc. eliminando los duplicados\n",
    "    - Preparar las divisiones de entrenamiento y de prueba\n"
   ]
  },
  {
   "cell_type": "code",
   "execution_count": 4,
   "id": "rural-drunk",
   "metadata": {},
   "outputs": [
    {
     "name": "stdout",
     "output_type": "stream",
     "text": [
      "\n",
      "reading csv : train.csv ...\n",
      "cleaning data ...\n",
      "CPU time: 3.281022071838379 seconds\n",
      "\n",
      "reading csv : test.csv ...\n",
      "cleaning data ...\n",
      "CPU time: 0.05329585075378418 seconds\n",
      "\n",
      "> Number of common features : 11\n",
      "\n",
      "gathering and crunching for train and test datasets ...\n",
      "reindexing for train and test datasets ...\n",
      "dropping training duplicates ...\n",
      "dropping constant variables on training set ...\n",
      "\n",
      "> Number of categorical features: 5\n",
      "> Number of numerical features: 6\n",
      "> Number of training samples : 891\n",
      "> Number of test samples : 418\n",
      "\n",
      "> Top sparse features (% missing values on train set):\n",
      "Cabin       77.1\n",
      "Age         19.9\n",
      "Embarked     0.2\n",
      "dtype: float64\n",
      "\n",
      "> Task : classification\n",
      "0.0    549\n",
      "1.0    342\n",
      "Name: Survived, dtype: int64\n",
      "\n",
      "encoding target ...\n"
     ]
    }
   ],
   "source": [
    "rd = Reader(sep = \",\")\n",
    "df = rd.train_test_split(paths, target_name)   #reading and preprocessing (dates, ...)"
   ]
  },
  {
   "cell_type": "markdown",
   "id": "downtown-liver",
   "metadata": {},
   "source": [
    "### Drift Removal  (Eliminación de Variaciones) \n",
    "\n",
    "Una de las características más innovadoras de Mlbox.\n",
    "\n",
    "La idea principal es detectar y eliminar automáticamente las variables que tienen una distribución sustancialmente diferente entre el conjunto de entrenamiento y el de prueba.\n",
    "\n",
    "Esto ocurre a menudo y generalmente hablamos de datos sesgados.\n",
    "\n",
    "Por ejemplo, puede darse una situación en la que el conjunto de entrenamiento tenga una población de jóvenes, mientras que la prueba sólo tenga personas mayores. Esto indica que la característica de la edad no es robusta y puede conducir a un mal rendimiento del modelo en las pruebas. Por tanto, hay que descartarla. Para realizar el cálculo, MLBox construye un clasificador que separa los datos de entrenamiento de los de prueba. A continuación, utiliza la puntuación ROC relacionada con este clasificador como medida de la variación.\n",
    "\n",
    "Si la puntuación de la variación es alta (es decir, la puntuación ROC es alta) la capacidad de discernir los datos de test de los de prueba es fácil, lo que significa que las dos distribuciones son muy diferentes. De lo contrario, si la puntuación de variación es baja (es decir, la puntuación ROC es baja) el clasificador no es capaz de separar las dos distribuciones correctamente. MLBox proporciona una clase llamada Drift_thresholder que toma como entrada los conjuntos de entrenamiento y prueba, así como el objetivo del modelo, y calcula una puntuación de variación de cada una de las variables.\n",
    "\n",
    "Drift_thresholder elimina entonces las variables que tienen una puntuación de variación superior a un umbral (por defecto 0,6).\n"
   ]
  },
  {
   "cell_type": "code",
   "execution_count": 5,
   "id": "raised-township",
   "metadata": {
    "scrolled": true
   },
   "outputs": [
    {
     "name": "stdout",
     "output_type": "stream",
     "text": [
      "\n",
      "computing drifts ...\n",
      "CPU time: 0.1334233283996582 seconds\n",
      "\n",
      "> Top 10 drifts\n",
      "\n",
      "('PassengerId', 0.9953655030360244)\n",
      "('Name', 0.9896099298388652)\n",
      "('Ticket', 0.6710463876405699)\n",
      "('Cabin', 0.17404306822792437)\n",
      "('Embarked', 0.07643589488293578)\n",
      "('Parch', 0.05513057666266552)\n",
      "('Age', 0.044039244719713544)\n",
      "('Pclass', 0.02510710524025539)\n",
      "('Sex', 0.02234653713347301)\n",
      "('SibSp', 0.01998471319951678)\n",
      "\n",
      "> Deleted variables : ['Name', 'PassengerId', 'Ticket']\n",
      "> Drift coefficients dumped into directory : save\n"
     ]
    }
   ],
   "source": [
    "dft = Drift_thresholder()\n",
    "df = dft.fit_transform(df)   #removing non-stable features (like ID,...)"
   ]
  },
  {
   "cell_type": "markdown",
   "id": "7019bb1c",
   "metadata": {},
   "source": [
    "Como podemos ver, el framework detecta perfectamente como las features Name, PassengerId y Ticket no tiene ninguna relevancia para el modelo"
   ]
  },
  {
   "cell_type": "markdown",
   "id": "earlier-harvey",
   "metadata": {},
   "source": [
    "### Optimización\n",
    "\n",
    "#### Todas las funcionalidades dentro de este subpaquete pueden ser utilizadas a través del comando\n",
    "\n",
    "    from mlbox.optimisation import *\n",
    "\n",
    "El método de optimización de hiperparámetros de esta biblioteca utiliza la biblioteca hyperopt, cuyas características son la velocidad y que se puede utilizat para optimizar un gran número de parametros, desde la elección del método de interpolación de valores perdidos adecuado hasta la profundidad de un modelo XGBOOST. Esta biblioteca crea un espacio de alta dimensión de los parámetros a optimizar y elige la mejor combinación.\n",
    "\n",
    "#### Esta sección realiza la optimización de la pipeline y prueba diferentes configuraciones de los parámetros:\n",
    "\n",
    "    - Codificador NA (codificador de valores perdidos)\n",
    "    - Codificador CA (codificador de características categóricas)\n",
    "    - Selector de características (OPCIONAL)\n",
    "    - Estimador de apilamiento - ingeniería de características (OPCIONAL)\n",
    "    - Estimador (clasificador o regresor)"
   ]
  },
  {
   "cell_type": "code",
   "execution_count": 6,
   "id": "fluid-fraction",
   "metadata": {},
   "outputs": [
    {
     "name": "stderr",
     "output_type": "stream",
     "text": [
      "/usr/local/lib/python3.7/site-packages/mlbox/optimisation/optimiser.py:74: UserWarning: Optimiser will save all your fitted models into directory 'save/joblib'. Please clear it regularly.\n",
      "  +str(self.to_path)+\"/joblib'. Please clear it regularly.\")\n"
     ]
    }
   ],
   "source": [
    "opt = Optimiser(scoring = \"accuracy\", n_folds = 5)\n",
    "# Then we can run it using the default model configuration set as default (LightGBM) without any autoML or complex grid search.\n",
    "\n",
    "# This should be the first baseline\n",
    "\n",
    "#warnings.filterwarnings('ignore', category=DeprecationWarning)\n",
    "#score = opt.evaluate(None, df)The above method saves the feature importance, drift variables coefficients and the final predictions into a separate folder named ‘save’."
   ]
  },
  {
   "cell_type": "markdown",
   "id": "drawn-milton",
   "metadata": {},
   "source": [
    "Ahora, podemos definir varias de configuraciones:\n",
    "\n",
    "- ne_numericalstrategy: cómo manejar los datos que faltan en los valores numéricos\n",
    "- ce__strategy: cómo tratar la codificación de variables categóricas\n",
    "- fs: selección de features (características)\n",
    "- stck: apilador de meta-features\n",
    "- est: estimador final\n",
    "\n"
   ]
  },
  {
   "cell_type": "code",
   "execution_count": 7,
   "id": "linear-comparative",
   "metadata": {},
   "outputs": [],
   "source": [
    "space = {\n",
    "    \n",
    "        'est__strategy':{\"search\":\"choice\",\n",
    "                                  \"space\":[\"LightGBM\"]},    \n",
    "        'est__n_estimators':{\"search\":\"choice\",\n",
    "                                  \"space\":[150]},    \n",
    "        'est__colsample_bytree':{\"search\":\"uniform\",\n",
    "                                  \"space\":[0.8,0.95]},\n",
    "        'est__subsample':{\"search\":\"uniform\",\n",
    "                                  \"space\":[0.8,0.95]},\n",
    "        'est__max_depth':{\"search\":\"choice\",\n",
    "                                  \"space\":[5,6,7,8,9]},\n",
    "        'est__learning_rate':{\"search\":\"choice\",\n",
    "                                  \"space\":[0.07]} \n",
    "    \n",
    "        }"
   ]
  },
  {
   "cell_type": "markdown",
   "id": "e16e88e2",
   "metadata": {},
   "source": [
    "Pero también puedes afinar toda la pipeline. De hecho, puede elegir\n",
    "\n",
    "- diferentes estrategias para imputar los valores perdidos\n",
    "- diferentes estrategias para codificar características categóricas (entity embeddings, ...)\n",
    "- diferentes estrategias y umbrales para seleccionar características relevantes (importancia de las características del bosque aleatorio, regularización l1, ...)\n",
    "- añadir meta-features de apilamiento\n",
    "- diferentes modelos e hiperparámetros (XGBoost, Random Forest, Lineal, ...)\n"
   ]
  },
  {
   "cell_type": "markdown",
   "id": "8d178906",
   "metadata": {},
   "source": [
    "Creamos un objeto de la clase Optimiser que tiene los parámetros 'scoring' y 'n_folds'. Scoring es la métrica con la que queremos optimizar nuestros hiperparámetros y n_folds es el número de subconjuntos de validación cruzada.\n",
    "\n",
    "- Valores de puntuación para la clasificación: \"accuracy\", \"roc_auc\", \"f1\", \"log_loss\", \"precision\", \"recall\".\n",
    "\n",
    "- Valores de puntuación para la regresión: \"error_absoluto_medio\", \"error_cuadrado_medio\", \"error_absoluto_mediano\", \"r2\".\n"
   ]
  },
  {
   "cell_type": "code",
   "execution_count": 8,
   "id": "b3b25bf4",
   "metadata": {},
   "outputs": [],
   "source": [
    "opt = Optimiser(scoring=\"accuracy\",n_folds=5)"
   ]
  },
  {
   "cell_type": "markdown",
   "id": "505b99f3",
   "metadata": {},
   "source": [
    "Usamos la función optimizar del objeto creado en la celda anterior, que toma como parámetros el espacio de hiperparámetros, el diccionario creado por el train_test_split y el número de iteraciones. Esta función devuelve los mejores hiperparámetros detectados."
   ]
  },
  {
   "cell_type": "code",
   "execution_count": 9,
   "id": "407e7316",
   "metadata": {},
   "outputs": [
    {
     "name": "stdout",
     "output_type": "stream",
     "text": [
      "##################################################### testing hyper-parameters... #####################################################\n",
      ">>> NA ENCODER :{'numerical_strategy': 'mean', 'categorical_strategy': '<NULL>'}\n",
      ">>> CA ENCODER :{'strategy': 'label_encoding'}        \n",
      ">>> ESTIMATOR :{'strategy': 'LightGBM', 'colsample_bytree': 0.9001936257665721, 'learning_rate': 0.07, 'max_depth': 6, 'n_estimators': 150, 'subsample': 0.819215596567715, 'boosting_type': 'gbdt', 'class_weight': None, 'importance_type': 'split', 'min_child_samples': 20, 'min_child_weight': 0.001, 'min_split_gain': 0.0, 'n_jobs': -1, 'num_leaves': 31, 'objective': None, 'random_state': None, 'reg_alpha': 0.0, 'reg_lambda': 0.0, 'silent': True, 'subsample_for_bin': 200000, 'subsample_freq': 0, 'nthread': -1, 'seed': 0}\n",
      "MEAN SCORE : accuracy = 0.8327851358985626            \n",
      "VARIANCE : 0.02384022044232279 (fold 1 = 0.8212290502793296, fold 2 = 0.8707865168539326, fold 3 = 0.8033707865168539, fold 4 = 0.8202247191011236, fold 5 = 0.848314606741573)\n",
      "CPU time: 0.3642244338989258 seconds                  \n",
      "##################################################### testing hyper-parameters... #####################################################\n",
      ">>> NA ENCODER :{'numerical_strategy': 'mean', 'categorical_strategy': '<NULL>'} \n",
      ">>> CA ENCODER :{'strategy': 'label_encoding'}                                   \n",
      ">>> ESTIMATOR :{'strategy': 'LightGBM', 'colsample_bytree': 0.9333355797894375, 'learning_rate': 0.07, 'max_depth': 9, 'n_estimators': 150, 'subsample': 0.830388985871151, 'boosting_type': 'gbdt', 'class_weight': None, 'importance_type': 'split', 'min_child_samples': 20, 'min_child_weight': 0.001, 'min_split_gain': 0.0, 'n_jobs': -1, 'num_leaves': 31, 'objective': None, 'random_state': None, 'reg_alpha': 0.0, 'reg_lambda': 0.0, 'silent': True, 'subsample_for_bin': 200000, 'subsample_freq': 0, 'nthread': -1, 'seed': 0}\n",
      "MEAN SCORE : accuracy = 0.8305630531667816                                       \n",
      "VARIANCE : 0.02493513838773782 (fold 1 = 0.7988826815642458, fold 2 = 0.8539325842696629, fold 3 = 0.8202247191011236, fold 4 = 0.8146067415730337, fold 5 = 0.8651685393258427)\n",
      "CPU time: 0.4924135208129883 seconds                                             \n",
      "##################################################### testing hyper-parameters... #####################################################\n",
      ">>> NA ENCODER :{'numerical_strategy': 'mean', 'categorical_strategy': '<NULL>'} \n",
      ">>> CA ENCODER :{'strategy': 'label_encoding'}                                   \n",
      ">>> ESTIMATOR :{'strategy': 'LightGBM', 'colsample_bytree': 0.8991239932238378, 'learning_rate': 0.07, 'max_depth': 7, 'n_estimators': 150, 'subsample': 0.8634579512497651, 'boosting_type': 'gbdt', 'class_weight': None, 'importance_type': 'split', 'min_child_samples': 20, 'min_child_weight': 0.001, 'min_split_gain': 0.0, 'n_jobs': -1, 'num_leaves': 31, 'objective': None, 'random_state': None, 'reg_alpha': 0.0, 'reg_lambda': 0.0, 'silent': True, 'subsample_for_bin': 200000, 'subsample_freq': 0, 'nthread': -1, 'seed': 0}\n",
      "MEAN SCORE : accuracy = 0.8406440273680247                                       \n",
      "VARIANCE : 0.020150211634093307 (fold 1 = 0.8268156424581006, fold 2 = 0.8651685393258427, fold 3 = 0.8258426966292135, fold 4 = 0.8202247191011236, fold 5 = 0.8651685393258427)\n",
      "CPU time: 0.36835813522338867 seconds                                            \n",
      "##################################################### testing hyper-parameters... #####################################################\n",
      ">>> NA ENCODER :{'numerical_strategy': 'mean', 'categorical_strategy': '<NULL>'} \n",
      ">>> CA ENCODER :{'strategy': 'label_encoding'}                                   \n",
      ">>> ESTIMATOR :{'strategy': 'LightGBM', 'colsample_bytree': 0.8537106103045988, 'learning_rate': 0.07, 'max_depth': 7, 'n_estimators': 150, 'subsample': 0.8007191910842582, 'boosting_type': 'gbdt', 'class_weight': None, 'importance_type': 'split', 'min_child_samples': 20, 'min_child_weight': 0.001, 'min_split_gain': 0.0, 'n_jobs': -1, 'num_leaves': 31, 'objective': None, 'random_state': None, 'reg_alpha': 0.0, 'reg_lambda': 0.0, 'silent': True, 'subsample_for_bin': 200000, 'subsample_freq': 0, 'nthread': -1, 'seed': 0}\n",
      "MEAN SCORE : accuracy = 0.8406440273680247                                       \n",
      "VARIANCE : 0.020150211634093307 (fold 1 = 0.8268156424581006, fold 2 = 0.8651685393258427, fold 3 = 0.8258426966292135, fold 4 = 0.8202247191011236, fold 5 = 0.8651685393258427)\n",
      "CPU time: 0.38576221466064453 seconds                                            \n",
      "##################################################### testing hyper-parameters... #####################################################\n",
      ">>> NA ENCODER :{'numerical_strategy': 'mean', 'categorical_strategy': '<NULL>'} \n",
      ">>> CA ENCODER :{'strategy': 'label_encoding'}                                   \n",
      ">>> ESTIMATOR :{'strategy': 'LightGBM', 'colsample_bytree': 0.8900615057844925, 'learning_rate': 0.07, 'max_depth': 8, 'n_estimators': 150, 'subsample': 0.8142477762282522, 'boosting_type': 'gbdt', 'class_weight': None, 'importance_type': 'split', 'min_child_samples': 20, 'min_child_weight': 0.001, 'min_split_gain': 0.0, 'n_jobs': -1, 'num_leaves': 31, 'objective': None, 'random_state': None, 'reg_alpha': 0.0, 'reg_lambda': 0.0, 'silent': True, 'subsample_for_bin': 200000, 'subsample_freq': 0, 'nthread': -1, 'seed': 0}\n",
      "MEAN SCORE : accuracy = 0.8305630531667818                                       \n",
      "VARIANCE : 0.021095396796015648 (fold 1 = 0.7988826815642458, fold 2 = 0.8539325842696629, fold 3 = 0.8258426966292135, fold 4 = 0.8202247191011236, fold 5 = 0.8539325842696629)\n",
      "CPU time: 0.4415135383605957 seconds                                             \n",
      "##################################################### testing hyper-parameters... #####################################################\n",
      ">>> NA ENCODER :{'numerical_strategy': 'mean', 'categorical_strategy': '<NULL>'} \n",
      ">>> CA ENCODER :{'strategy': 'label_encoding'}                                   \n",
      ">>> ESTIMATOR :{'strategy': 'LightGBM', 'colsample_bytree': 0.8668841058663643, 'learning_rate': 0.07, 'max_depth': 8, 'n_estimators': 150, 'subsample': 0.9274302450783739, 'boosting_type': 'gbdt', 'class_weight': None, 'importance_type': 'split', 'min_child_samples': 20, 'min_child_weight': 0.001, 'min_split_gain': 0.0, 'n_jobs': -1, 'num_leaves': 31, 'objective': None, 'random_state': None, 'reg_alpha': 0.0, 'reg_lambda': 0.0, 'silent': True, 'subsample_for_bin': 200000, 'subsample_freq': 0, 'nthread': -1, 'seed': 0}\n",
      "MEAN SCORE : accuracy = 0.8305630531667818                                       \n",
      "VARIANCE : 0.021095396796015648 (fold 1 = 0.7988826815642458, fold 2 = 0.8539325842696629, fold 3 = 0.8258426966292135, fold 4 = 0.8202247191011236, fold 5 = 0.8539325842696629)\n",
      "CPU time: 0.3873305320739746 seconds                                             \n",
      "##################################################### testing hyper-parameters... #####################################################\n",
      ">>> NA ENCODER :{'numerical_strategy': 'mean', 'categorical_strategy': '<NULL>'} \n",
      ">>> CA ENCODER :{'strategy': 'label_encoding'}                                   \n",
      ">>> ESTIMATOR :{'strategy': 'LightGBM', 'colsample_bytree': 0.8735634406512744, 'learning_rate': 0.07, 'max_depth': 8, 'n_estimators': 150, 'subsample': 0.8191753794729779, 'boosting_type': 'gbdt', 'class_weight': None, 'importance_type': 'split', 'min_child_samples': 20, 'min_child_weight': 0.001, 'min_split_gain': 0.0, 'n_jobs': -1, 'num_leaves': 31, 'objective': None, 'random_state': None, 'reg_alpha': 0.0, 'reg_lambda': 0.0, 'silent': True, 'subsample_for_bin': 200000, 'subsample_freq': 0, 'nthread': -1, 'seed': 0}\n",
      "MEAN SCORE : accuracy = 0.8305630531667818                                       \n",
      "VARIANCE : 0.021095396796015648 (fold 1 = 0.7988826815642458, fold 2 = 0.8539325842696629, fold 3 = 0.8258426966292135, fold 4 = 0.8202247191011236, fold 5 = 0.8539325842696629)\n",
      "CPU time: 0.3888816833496094 seconds                                             \n",
      "##################################################### testing hyper-parameters... #####################################################\n"
     ]
    },
    {
     "name": "stdout",
     "output_type": "stream",
     "text": [
      ">>> NA ENCODER :{'numerical_strategy': 'mean', 'categorical_strategy': '<NULL>'} \n",
      ">>> CA ENCODER :{'strategy': 'label_encoding'}                                   \n",
      ">>> ESTIMATOR :{'strategy': 'LightGBM', 'colsample_bytree': 0.8421747377392705, 'learning_rate': 0.07, 'max_depth': 8, 'n_estimators': 150, 'subsample': 0.8130015178517312, 'boosting_type': 'gbdt', 'class_weight': None, 'importance_type': 'split', 'min_child_samples': 20, 'min_child_weight': 0.001, 'min_split_gain': 0.0, 'n_jobs': -1, 'num_leaves': 31, 'objective': None, 'random_state': None, 'reg_alpha': 0.0, 'reg_lambda': 0.0, 'silent': True, 'subsample_for_bin': 200000, 'subsample_freq': 0, 'nthread': -1, 'seed': 0}\n",
      "MEAN SCORE : accuracy = 0.8305630531667818                                       \n",
      "VARIANCE : 0.021095396796015648 (fold 1 = 0.7988826815642458, fold 2 = 0.8539325842696629, fold 3 = 0.8258426966292135, fold 4 = 0.8202247191011236, fold 5 = 0.8539325842696629)\n",
      "CPU time: 0.4286823272705078 seconds                                             \n",
      "##################################################### testing hyper-parameters... #####################################################\n",
      ">>> NA ENCODER :{'numerical_strategy': 'mean', 'categorical_strategy': '<NULL>'} \n",
      ">>> CA ENCODER :{'strategy': 'label_encoding'}                                   \n",
      ">>> ESTIMATOR :{'strategy': 'LightGBM', 'colsample_bytree': 0.8041318601067564, 'learning_rate': 0.07, 'max_depth': 7, 'n_estimators': 150, 'subsample': 0.9320678996346029, 'boosting_type': 'gbdt', 'class_weight': None, 'importance_type': 'split', 'min_child_samples': 20, 'min_child_weight': 0.001, 'min_split_gain': 0.0, 'n_jobs': -1, 'num_leaves': 31, 'objective': None, 'random_state': None, 'reg_alpha': 0.0, 'reg_lambda': 0.0, 'silent': True, 'subsample_for_bin': 200000, 'subsample_freq': 0, 'nthread': -1, 'seed': 0}\n",
      "MEAN SCORE : accuracy = 0.832803967108154                                        \n",
      "VARIANCE : 0.02313584729351812 (fold 1 = 0.8044692737430168, fold 2 = 0.8651685393258427, fold 3 = 0.8146067415730337, fold 4 = 0.8258426966292135, fold 5 = 0.8539325842696629)\n",
      "CPU time: 0.3915705680847168 seconds                                             \n",
      "##################################################### testing hyper-parameters... #####################################################\n",
      ">>> NA ENCODER :{'numerical_strategy': 'mean', 'categorical_strategy': '<NULL>'} \n",
      ">>> CA ENCODER :{'strategy': 'label_encoding'}                                   \n",
      ">>> ESTIMATOR :{'strategy': 'LightGBM', 'colsample_bytree': 0.9483824154977392, 'learning_rate': 0.07, 'max_depth': 8, 'n_estimators': 150, 'subsample': 0.8886724025480333, 'boosting_type': 'gbdt', 'class_weight': None, 'importance_type': 'split', 'min_child_samples': 20, 'min_child_weight': 0.001, 'min_split_gain': 0.0, 'n_jobs': -1, 'num_leaves': 31, 'objective': None, 'random_state': None, 'reg_alpha': 0.0, 'reg_lambda': 0.0, 'silent': True, 'subsample_for_bin': 200000, 'subsample_freq': 0, 'nthread': -1, 'seed': 0}\n",
      "MEAN SCORE : accuracy = 0.8373046262004896                                       \n",
      "VARIANCE : 0.023463611584064657 (fold 1 = 0.7988826815642458, fold 2 = 0.8707865168539326, fold 3 = 0.8314606741573034, fold 4 = 0.8370786516853933, fold 5 = 0.848314606741573)\n",
      "CPU time: 0.39939117431640625 seconds                                            \n",
      "##################################################### testing hyper-parameters... #####################################################\n",
      ">>> NA ENCODER :{'numerical_strategy': 'mean', 'categorical_strategy': '<NULL>'}  \n",
      ">>> CA ENCODER :{'strategy': 'label_encoding'}                                    \n",
      ">>> ESTIMATOR :{'strategy': 'LightGBM', 'colsample_bytree': 0.8910089918921671, 'learning_rate': 0.07, 'max_depth': 8, 'n_estimators': 150, 'subsample': 0.9124524718103406, 'boosting_type': 'gbdt', 'class_weight': None, 'importance_type': 'split', 'min_child_samples': 20, 'min_child_weight': 0.001, 'min_split_gain': 0.0, 'n_jobs': -1, 'num_leaves': 31, 'objective': None, 'random_state': None, 'reg_alpha': 0.0, 'reg_lambda': 0.0, 'silent': True, 'subsample_for_bin': 200000, 'subsample_freq': 0, 'nthread': -1, 'seed': 0}\n",
      "MEAN SCORE : accuracy = 0.8305630531667818                                        \n",
      "VARIANCE : 0.021095396796015648 (fold 1 = 0.7988826815642458, fold 2 = 0.8539325842696629, fold 3 = 0.8258426966292135, fold 4 = 0.8202247191011236, fold 5 = 0.8539325842696629)\n",
      "CPU time: 0.38025832176208496 seconds                                             \n",
      "##################################################### testing hyper-parameters... #####################################################\n",
      ">>> NA ENCODER :{'numerical_strategy': 'mean', 'categorical_strategy': '<NULL>'}  \n",
      ">>> CA ENCODER :{'strategy': 'label_encoding'}                                    \n",
      ">>> ESTIMATOR :{'strategy': 'LightGBM', 'colsample_bytree': 0.8493699969707924, 'learning_rate': 0.07, 'max_depth': 7, 'n_estimators': 150, 'subsample': 0.8733256726749498, 'boosting_type': 'gbdt', 'class_weight': None, 'importance_type': 'split', 'min_child_samples': 20, 'min_child_weight': 0.001, 'min_split_gain': 0.0, 'n_jobs': -1, 'num_leaves': 31, 'objective': None, 'random_state': None, 'reg_alpha': 0.0, 'reg_lambda': 0.0, 'silent': True, 'subsample_for_bin': 200000, 'subsample_freq': 0, 'nthread': -1, 'seed': 0}\n",
      "MEAN SCORE : accuracy = 0.8406440273680247                                        \n",
      "VARIANCE : 0.020150211634093307 (fold 1 = 0.8268156424581006, fold 2 = 0.8651685393258427, fold 3 = 0.8258426966292135, fold 4 = 0.8202247191011236, fold 5 = 0.8651685393258427)\n",
      "CPU time: 0.3682985305786133 seconds                                              \n",
      "##################################################### testing hyper-parameters... #####################################################\n",
      ">>> NA ENCODER :{'numerical_strategy': 'mean', 'categorical_strategy': '<NULL>'}  \n",
      ">>> CA ENCODER :{'strategy': 'label_encoding'}                                    \n",
      ">>> ESTIMATOR :{'strategy': 'LightGBM', 'colsample_bytree': 0.8031706529033548, 'learning_rate': 0.07, 'max_depth': 7, 'n_estimators': 150, 'subsample': 0.8336362486018537, 'boosting_type': 'gbdt', 'class_weight': None, 'importance_type': 'split', 'min_child_samples': 20, 'min_child_weight': 0.001, 'min_split_gain': 0.0, 'n_jobs': -1, 'num_leaves': 31, 'objective': None, 'random_state': None, 'reg_alpha': 0.0, 'reg_lambda': 0.0, 'silent': True, 'subsample_for_bin': 200000, 'subsample_freq': 0, 'nthread': -1, 'seed': 0}\n",
      "MEAN SCORE : accuracy = 0.832803967108154                                         \n",
      "VARIANCE : 0.02313584729351812 (fold 1 = 0.8044692737430168, fold 2 = 0.8651685393258427, fold 3 = 0.8146067415730337, fold 4 = 0.8258426966292135, fold 5 = 0.8539325842696629)\n",
      "CPU time: 0.35060834884643555 seconds                                             \n",
      "##################################################### testing hyper-parameters... #####################################################\n",
      ">>> NA ENCODER :{'numerical_strategy': 'mean', 'categorical_strategy': '<NULL>'}  \n",
      ">>> CA ENCODER :{'strategy': 'label_encoding'}                                    \n",
      ">>> ESTIMATOR :{'strategy': 'LightGBM', 'colsample_bytree': 0.8570875440264063, 'learning_rate': 0.07, 'max_depth': 9, 'n_estimators': 150, 'subsample': 0.8821597310057904, 'boosting_type': 'gbdt', 'class_weight': None, 'importance_type': 'split', 'min_child_samples': 20, 'min_child_weight': 0.001, 'min_split_gain': 0.0, 'n_jobs': -1, 'num_leaves': 31, 'objective': None, 'random_state': None, 'reg_alpha': 0.0, 'reg_lambda': 0.0, 'silent': True, 'subsample_for_bin': 200000, 'subsample_freq': 0, 'nthread': -1, 'seed': 0}\n",
      "MEAN SCORE : accuracy = 0.8305630531667816                                        \n",
      "VARIANCE : 0.02493513838773782 (fold 1 = 0.7988826815642458, fold 2 = 0.8539325842696629, fold 3 = 0.8202247191011236, fold 4 = 0.8146067415730337, fold 5 = 0.8651685393258427)\n",
      "CPU time: 0.3858146667480469 seconds                                              \n",
      "##################################################### testing hyper-parameters... #####################################################\n",
      ">>> NA ENCODER :{'numerical_strategy': 'mean', 'categorical_strategy': '<NULL>'}  \n",
      ">>> CA ENCODER :{'strategy': 'label_encoding'}                                    \n",
      ">>> ESTIMATOR :{'strategy': 'LightGBM', 'colsample_bytree': 0.8264300364589756, 'learning_rate': 0.07, 'max_depth': 8, 'n_estimators': 150, 'subsample': 0.8035192719359174, 'boosting_type': 'gbdt', 'class_weight': None, 'importance_type': 'split', 'min_child_samples': 20, 'min_child_weight': 0.001, 'min_split_gain': 0.0, 'n_jobs': -1, 'num_leaves': 31, 'objective': None, 'random_state': None, 'reg_alpha': 0.0, 'reg_lambda': 0.0, 'silent': True, 'subsample_for_bin': 200000, 'subsample_freq': 0, 'nthread': -1, 'seed': 0}\n",
      "MEAN SCORE : accuracy = 0.8305630531667818                                        \n",
      "VARIANCE : 0.021095396796015648 (fold 1 = 0.7988826815642458, fold 2 = 0.8539325842696629, fold 3 = 0.8258426966292135, fold 4 = 0.8202247191011236, fold 5 = 0.8539325842696629)\n",
      "CPU time: 0.41834282875061035 seconds                                             \n",
      "##################################################### testing hyper-parameters... #####################################################\n",
      ">>> NA ENCODER :{'numerical_strategy': 'mean', 'categorical_strategy': '<NULL>'}  \n",
      ">>> CA ENCODER :{'strategy': 'label_encoding'}                                    \n",
      ">>> ESTIMATOR :{'strategy': 'LightGBM', 'colsample_bytree': 0.9465145573163338, 'learning_rate': 0.07, 'max_depth': 8, 'n_estimators': 150, 'subsample': 0.8760884598927217, 'boosting_type': 'gbdt', 'class_weight': None, 'importance_type': 'split', 'min_child_samples': 20, 'min_child_weight': 0.001, 'min_split_gain': 0.0, 'n_jobs': -1, 'num_leaves': 31, 'objective': None, 'random_state': None, 'reg_alpha': 0.0, 'reg_lambda': 0.0, 'silent': True, 'subsample_for_bin': 200000, 'subsample_freq': 0, 'nthread': -1, 'seed': 0}\n",
      "MEAN SCORE : accuracy = 0.8373046262004896                                        \n",
      "VARIANCE : 0.023463611584064657 (fold 1 = 0.7988826815642458, fold 2 = 0.8707865168539326, fold 3 = 0.8314606741573034, fold 4 = 0.8370786516853933, fold 5 = 0.848314606741573)\n",
      "CPU time: 0.4447214603424072 seconds                                              \n",
      "##################################################### testing hyper-parameters... #####################################################\n",
      ">>> NA ENCODER :{'numerical_strategy': 'mean', 'categorical_strategy': '<NULL>'}  \n",
      ">>> CA ENCODER :{'strategy': 'label_encoding'}                                    \n",
      ">>> ESTIMATOR :{'strategy': 'LightGBM', 'colsample_bytree': 0.8053370595024908, 'learning_rate': 0.07, 'max_depth': 7, 'n_estimators': 150, 'subsample': 0.9239425831847493, 'boosting_type': 'gbdt', 'class_weight': None, 'importance_type': 'split', 'min_child_samples': 20, 'min_child_weight': 0.001, 'min_split_gain': 0.0, 'n_jobs': -1, 'num_leaves': 31, 'objective': None, 'random_state': None, 'reg_alpha': 0.0, 'reg_lambda': 0.0, 'silent': True, 'subsample_for_bin': 200000, 'subsample_freq': 0, 'nthread': -1, 'seed': 0}\n",
      "MEAN SCORE : accuracy = 0.832803967108154                                         \n",
      "VARIANCE : 0.02313584729351812 (fold 1 = 0.8044692737430168, fold 2 = 0.8651685393258427, fold 3 = 0.8146067415730337, fold 4 = 0.8258426966292135, fold 5 = 0.8539325842696629)\n",
      "CPU time: 0.3913569450378418 seconds                                              \n",
      "##################################################### testing hyper-parameters... #####################################################\n",
      ">>> NA ENCODER :{'numerical_strategy': 'mean', 'categorical_strategy': '<NULL>'}  \n",
      ">>> CA ENCODER :{'strategy': 'label_encoding'}                                    \n",
      ">>> ESTIMATOR :{'strategy': 'LightGBM', 'colsample_bytree': 0.869491674619215, 'learning_rate': 0.07, 'max_depth': 8, 'n_estimators': 150, 'subsample': 0.8223824613307992, 'boosting_type': 'gbdt', 'class_weight': None, 'importance_type': 'split', 'min_child_samples': 20, 'min_child_weight': 0.001, 'min_split_gain': 0.0, 'n_jobs': -1, 'num_leaves': 31, 'objective': None, 'random_state': None, 'reg_alpha': 0.0, 'reg_lambda': 0.0, 'silent': True, 'subsample_for_bin': 200000, 'subsample_freq': 0, 'nthread': -1, 'seed': 0}\n",
      "MEAN SCORE : accuracy = 0.8305630531667818                                        \n",
      "VARIANCE : 0.021095396796015648 (fold 1 = 0.7988826815642458, fold 2 = 0.8539325842696629, fold 3 = 0.8258426966292135, fold 4 = 0.8202247191011236, fold 5 = 0.8539325842696629)\n",
      "CPU time: 0.40026330947875977 seconds                                             \n",
      "##################################################### testing hyper-parameters... #####################################################\n",
      ">>> NA ENCODER :{'numerical_strategy': 'mean', 'categorical_strategy': '<NULL>'}  \n",
      ">>> CA ENCODER :{'strategy': 'label_encoding'}                                    \n",
      ">>> ESTIMATOR :{'strategy': 'LightGBM', 'colsample_bytree': 0.8850559665214943, 'learning_rate': 0.07, 'max_depth': 7, 'n_estimators': 150, 'subsample': 0.83145433216328, 'boosting_type': 'gbdt', 'class_weight': None, 'importance_type': 'split', 'min_child_samples': 20, 'min_child_weight': 0.001, 'min_split_gain': 0.0, 'n_jobs': -1, 'num_leaves': 31, 'objective': None, 'random_state': None, 'reg_alpha': 0.0, 'reg_lambda': 0.0, 'silent': True, 'subsample_for_bin': 200000, 'subsample_freq': 0, 'nthread': -1, 'seed': 0}\n",
      "MEAN SCORE : accuracy = 0.8406440273680247                                        \n",
      "VARIANCE : 0.020150211634093307 (fold 1 = 0.8268156424581006, fold 2 = 0.8651685393258427, fold 3 = 0.8258426966292135, fold 4 = 0.8202247191011236, fold 5 = 0.8651685393258427)\n",
      "CPU time: 0.41112542152404785 seconds                                             \n",
      "##################################################### testing hyper-parameters... #####################################################\n",
      ">>> NA ENCODER :{'numerical_strategy': 'mean', 'categorical_strategy': '<NULL>'}  \n",
      ">>> CA ENCODER :{'strategy': 'label_encoding'}                                    \n",
      ">>> ESTIMATOR :{'strategy': 'LightGBM', 'colsample_bytree': 0.9299988650626094, 'learning_rate': 0.07, 'max_depth': 6, 'n_estimators': 150, 'subsample': 0.9097918249225454, 'boosting_type': 'gbdt', 'class_weight': None, 'importance_type': 'split', 'min_child_samples': 20, 'min_child_weight': 0.001, 'min_split_gain': 0.0, 'n_jobs': -1, 'num_leaves': 31, 'objective': None, 'random_state': None, 'reg_alpha': 0.0, 'reg_lambda': 0.0, 'silent': True, 'subsample_for_bin': 200000, 'subsample_freq': 0, 'nthread': -1, 'seed': 0}\n",
      "MEAN SCORE : accuracy = 0.8327851358985626                                        \n",
      "VARIANCE : 0.02384022044232279 (fold 1 = 0.8212290502793296, fold 2 = 0.8707865168539326, fold 3 = 0.8033707865168539, fold 4 = 0.8202247191011236, fold 5 = 0.848314606741573)\n",
      "CPU time: 0.3635129928588867 seconds                                              \n",
      "##################################################### testing hyper-parameters... #####################################################\n",
      ">>> NA ENCODER :{'numerical_strategy': 'mean', 'categorical_strategy': '<NULL>'}  \n",
      ">>> CA ENCODER :{'strategy': 'label_encoding'}                                    \n",
      ">>> ESTIMATOR :{'strategy': 'LightGBM', 'colsample_bytree': 0.9164503350302421, 'learning_rate': 0.07, 'max_depth': 5, 'n_estimators': 150, 'subsample': 0.8549883397655547, 'boosting_type': 'gbdt', 'class_weight': None, 'importance_type': 'split', 'min_child_samples': 20, 'min_child_weight': 0.001, 'min_split_gain': 0.0, 'n_jobs': -1, 'num_leaves': 31, 'objective': None, 'random_state': None, 'reg_alpha': 0.0, 'reg_lambda': 0.0, 'silent': True, 'subsample_for_bin': 200000, 'subsample_freq': 0, 'nthread': -1, 'seed': 0}\n",
      "MEAN SCORE : accuracy = 0.8327976900382902                                        \n",
      "VARIANCE : 0.016897571274943367 (fold 1 = 0.8100558659217877, fold 2 = 0.8595505617977528, fold 3 = 0.8258426966292135, fold 4 = 0.8258426966292135, fold 5 = 0.8426966292134831)\n",
      "CPU time: 0.35389184951782227 seconds                                             \n",
      "##################################################### testing hyper-parameters... #####################################################\n"
     ]
    },
    {
     "name": "stdout",
     "output_type": "stream",
     "text": [
      ">>> NA ENCODER :{'numerical_strategy': 'mean', 'categorical_strategy': '<NULL>'}  \n",
      ">>> CA ENCODER :{'strategy': 'label_encoding'}                                    \n",
      ">>> ESTIMATOR :{'strategy': 'LightGBM', 'colsample_bytree': 0.9049939351864437, 'learning_rate': 0.07, 'max_depth': 7, 'n_estimators': 150, 'subsample': 0.8498225089357613, 'boosting_type': 'gbdt', 'class_weight': None, 'importance_type': 'split', 'min_child_samples': 20, 'min_child_weight': 0.001, 'min_split_gain': 0.0, 'n_jobs': -1, 'num_leaves': 31, 'objective': None, 'random_state': None, 'reg_alpha': 0.0, 'reg_lambda': 0.0, 'silent': True, 'subsample_for_bin': 200000, 'subsample_freq': 0, 'nthread': -1, 'seed': 0}\n",
      "MEAN SCORE : accuracy = 0.8406440273680247                                        \n",
      "VARIANCE : 0.020150211634093307 (fold 1 = 0.8268156424581006, fold 2 = 0.8651685393258427, fold 3 = 0.8258426966292135, fold 4 = 0.8202247191011236, fold 5 = 0.8651685393258427)\n",
      "CPU time: 0.3736109733581543 seconds                                              \n",
      "##################################################### testing hyper-parameters... #####################################################\n",
      ">>> NA ENCODER :{'numerical_strategy': 'mean', 'categorical_strategy': '<NULL>'}  \n",
      ">>> CA ENCODER :{'strategy': 'label_encoding'}                                    \n",
      ">>> ESTIMATOR :{'strategy': 'LightGBM', 'colsample_bytree': 0.9137335652453525, 'learning_rate': 0.07, 'max_depth': 5, 'n_estimators': 150, 'subsample': 0.8586816749930622, 'boosting_type': 'gbdt', 'class_weight': None, 'importance_type': 'split', 'min_child_samples': 20, 'min_child_weight': 0.001, 'min_split_gain': 0.0, 'n_jobs': -1, 'num_leaves': 31, 'objective': None, 'random_state': None, 'reg_alpha': 0.0, 'reg_lambda': 0.0, 'silent': True, 'subsample_for_bin': 200000, 'subsample_freq': 0, 'nthread': -1, 'seed': 0}\n",
      "MEAN SCORE : accuracy = 0.8327976900382902                                        \n",
      "VARIANCE : 0.016897571274943367 (fold 1 = 0.8100558659217877, fold 2 = 0.8595505617977528, fold 3 = 0.8258426966292135, fold 4 = 0.8258426966292135, fold 5 = 0.8426966292134831)\n",
      "CPU time: 0.35208678245544434 seconds                                             \n",
      "##################################################### testing hyper-parameters... #####################################################\n",
      ">>> NA ENCODER :{'numerical_strategy': 'mean', 'categorical_strategy': '<NULL>'}  \n",
      ">>> CA ENCODER :{'strategy': 'label_encoding'}                                    \n",
      ">>> ESTIMATOR :{'strategy': 'LightGBM', 'colsample_bytree': 0.8343968502281305, 'learning_rate': 0.07, 'max_depth': 7, 'n_estimators': 150, 'subsample': 0.8958520635532594, 'boosting_type': 'gbdt', 'class_weight': None, 'importance_type': 'split', 'min_child_samples': 20, 'min_child_weight': 0.001, 'min_split_gain': 0.0, 'n_jobs': -1, 'num_leaves': 31, 'objective': None, 'random_state': None, 'reg_alpha': 0.0, 'reg_lambda': 0.0, 'silent': True, 'subsample_for_bin': 200000, 'subsample_freq': 0, 'nthread': -1, 'seed': 0}\n",
      "MEAN SCORE : accuracy = 0.8406440273680247                                        \n",
      "VARIANCE : 0.020150211634093307 (fold 1 = 0.8268156424581006, fold 2 = 0.8651685393258427, fold 3 = 0.8258426966292135, fold 4 = 0.8202247191011236, fold 5 = 0.8651685393258427)\n",
      "CPU time: 0.43215465545654297 seconds                                             \n",
      "##################################################### testing hyper-parameters... #####################################################\n",
      ">>> NA ENCODER :{'numerical_strategy': 'mean', 'categorical_strategy': '<NULL>'}  \n",
      ">>> CA ENCODER :{'strategy': 'label_encoding'}                                    \n",
      ">>> ESTIMATOR :{'strategy': 'LightGBM', 'colsample_bytree': 0.82353937844623, 'learning_rate': 0.07, 'max_depth': 7, 'n_estimators': 150, 'subsample': 0.8443881011807663, 'boosting_type': 'gbdt', 'class_weight': None, 'importance_type': 'split', 'min_child_samples': 20, 'min_child_weight': 0.001, 'min_split_gain': 0.0, 'n_jobs': -1, 'num_leaves': 31, 'objective': None, 'random_state': None, 'reg_alpha': 0.0, 'reg_lambda': 0.0, 'silent': True, 'subsample_for_bin': 200000, 'subsample_freq': 0, 'nthread': -1, 'seed': 0}\n",
      "MEAN SCORE : accuracy = 0.8406440273680247                                        \n",
      "VARIANCE : 0.020150211634093307 (fold 1 = 0.8268156424581006, fold 2 = 0.8651685393258427, fold 3 = 0.8258426966292135, fold 4 = 0.8202247191011236, fold 5 = 0.8651685393258427)\n",
      "CPU time: 0.3877410888671875 seconds                                              \n",
      "##################################################### testing hyper-parameters... #####################################################\n",
      ">>> NA ENCODER :{'numerical_strategy': 'mean', 'categorical_strategy': '<NULL>'}  \n",
      ">>> CA ENCODER :{'strategy': 'label_encoding'}                                    \n",
      ">>> ESTIMATOR :{'strategy': 'LightGBM', 'colsample_bytree': 0.8194822015434109, 'learning_rate': 0.07, 'max_depth': 9, 'n_estimators': 150, 'subsample': 0.8457703794107738, 'boosting_type': 'gbdt', 'class_weight': None, 'importance_type': 'split', 'min_child_samples': 20, 'min_child_weight': 0.001, 'min_split_gain': 0.0, 'n_jobs': -1, 'num_leaves': 31, 'objective': None, 'random_state': None, 'reg_alpha': 0.0, 'reg_lambda': 0.0, 'silent': True, 'subsample_for_bin': 200000, 'subsample_freq': 0, 'nthread': -1, 'seed': 0}\n",
      "MEAN SCORE : accuracy = 0.8305630531667816                                        \n",
      "VARIANCE : 0.02493513838773782 (fold 1 = 0.7988826815642458, fold 2 = 0.8539325842696629, fold 3 = 0.8202247191011236, fold 4 = 0.8146067415730337, fold 5 = 0.8651685393258427)\n",
      "CPU time: 0.4724159240722656 seconds                                              \n",
      "##################################################### testing hyper-parameters... #####################################################\n",
      ">>> NA ENCODER :{'numerical_strategy': 'mean', 'categorical_strategy': '<NULL>'}  \n",
      ">>> CA ENCODER :{'strategy': 'label_encoding'}                                    \n",
      ">>> ESTIMATOR :{'strategy': 'LightGBM', 'colsample_bytree': 0.8385693260724358, 'learning_rate': 0.07, 'max_depth': 7, 'n_estimators': 150, 'subsample': 0.9443580420236662, 'boosting_type': 'gbdt', 'class_weight': None, 'importance_type': 'split', 'min_child_samples': 20, 'min_child_weight': 0.001, 'min_split_gain': 0.0, 'n_jobs': -1, 'num_leaves': 31, 'objective': None, 'random_state': None, 'reg_alpha': 0.0, 'reg_lambda': 0.0, 'silent': True, 'subsample_for_bin': 200000, 'subsample_freq': 0, 'nthread': -1, 'seed': 0}\n",
      "MEAN SCORE : accuracy = 0.8406440273680247                                        \n",
      "VARIANCE : 0.020150211634093307 (fold 1 = 0.8268156424581006, fold 2 = 0.8651685393258427, fold 3 = 0.8258426966292135, fold 4 = 0.8202247191011236, fold 5 = 0.8651685393258427)\n",
      "CPU time: 0.3785414695739746 seconds                                              \n",
      "##################################################### testing hyper-parameters... #####################################################\n",
      ">>> NA ENCODER :{'numerical_strategy': 'mean', 'categorical_strategy': '<NULL>'}  \n",
      ">>> CA ENCODER :{'strategy': 'label_encoding'}                                    \n",
      ">>> ESTIMATOR :{'strategy': 'LightGBM', 'colsample_bytree': 0.8192406863489243, 'learning_rate': 0.07, 'max_depth': 6, 'n_estimators': 150, 'subsample': 0.9473740678077132, 'boosting_type': 'gbdt', 'class_weight': None, 'importance_type': 'split', 'min_child_samples': 20, 'min_child_weight': 0.001, 'min_split_gain': 0.0, 'n_jobs': -1, 'num_leaves': 31, 'objective': None, 'random_state': None, 'reg_alpha': 0.0, 'reg_lambda': 0.0, 'silent': True, 'subsample_for_bin': 200000, 'subsample_freq': 0, 'nthread': -1, 'seed': 0}\n",
      "MEAN SCORE : accuracy = 0.8327851358985626                                        \n",
      "VARIANCE : 0.02384022044232279 (fold 1 = 0.8212290502793296, fold 2 = 0.8707865168539326, fold 3 = 0.8033707865168539, fold 4 = 0.8202247191011236, fold 5 = 0.848314606741573)\n",
      "CPU time: 0.3252718448638916 seconds                                              \n",
      "##################################################### testing hyper-parameters... #####################################################\n",
      ">>> NA ENCODER :{'numerical_strategy': 'mean', 'categorical_strategy': '<NULL>'}  \n",
      ">>> CA ENCODER :{'strategy': 'label_encoding'}                                    \n",
      ">>> ESTIMATOR :{'strategy': 'LightGBM', 'colsample_bytree': 0.8971391981979201, 'learning_rate': 0.07, 'max_depth': 5, 'n_estimators': 150, 'subsample': 0.8653953300814621, 'boosting_type': 'gbdt', 'class_weight': None, 'importance_type': 'split', 'min_child_samples': 20, 'min_child_weight': 0.001, 'min_split_gain': 0.0, 'n_jobs': -1, 'num_leaves': 31, 'objective': None, 'random_state': None, 'reg_alpha': 0.0, 'reg_lambda': 0.0, 'silent': True, 'subsample_for_bin': 200000, 'subsample_freq': 0, 'nthread': -1, 'seed': 0}\n",
      "MEAN SCORE : accuracy = 0.8327976900382902                                        \n",
      "VARIANCE : 0.016897571274943367 (fold 1 = 0.8100558659217877, fold 2 = 0.8595505617977528, fold 3 = 0.8258426966292135, fold 4 = 0.8258426966292135, fold 5 = 0.8426966292134831)\n",
      "CPU time: 0.3405928611755371 seconds                                              \n",
      "##################################################### testing hyper-parameters... #####################################################\n",
      ">>> NA ENCODER :{'numerical_strategy': 'mean', 'categorical_strategy': '<NULL>'}  \n",
      ">>> CA ENCODER :{'strategy': 'label_encoding'}                                    \n",
      ">>> ESTIMATOR :{'strategy': 'LightGBM', 'colsample_bytree': 0.8801720181514656, 'learning_rate': 0.07, 'max_depth': 6, 'n_estimators': 150, 'subsample': 0.9471516136654018, 'boosting_type': 'gbdt', 'class_weight': None, 'importance_type': 'split', 'min_child_samples': 20, 'min_child_weight': 0.001, 'min_split_gain': 0.0, 'n_jobs': -1, 'num_leaves': 31, 'objective': None, 'random_state': None, 'reg_alpha': 0.0, 'reg_lambda': 0.0, 'silent': True, 'subsample_for_bin': 200000, 'subsample_freq': 0, 'nthread': -1, 'seed': 0}\n",
      "MEAN SCORE : accuracy = 0.8327851358985626                                        \n",
      "VARIANCE : 0.02384022044232279 (fold 1 = 0.8212290502793296, fold 2 = 0.8707865168539326, fold 3 = 0.8033707865168539, fold 4 = 0.8202247191011236, fold 5 = 0.848314606741573)\n",
      "CPU time: 0.3999440670013428 seconds                                              \n",
      "##################################################### testing hyper-parameters... #####################################################\n",
      ">>> NA ENCODER :{'numerical_strategy': 'mean', 'categorical_strategy': '<NULL>'}  \n",
      ">>> CA ENCODER :{'strategy': 'label_encoding'}                                    \n",
      ">>> ESTIMATOR :{'strategy': 'LightGBM', 'colsample_bytree': 0.9275624939103518, 'learning_rate': 0.07, 'max_depth': 7, 'n_estimators': 150, 'subsample': 0.8372704288741011, 'boosting_type': 'gbdt', 'class_weight': None, 'importance_type': 'split', 'min_child_samples': 20, 'min_child_weight': 0.001, 'min_split_gain': 0.0, 'n_jobs': -1, 'num_leaves': 31, 'objective': None, 'random_state': None, 'reg_alpha': 0.0, 'reg_lambda': 0.0, 'silent': True, 'subsample_for_bin': 200000, 'subsample_freq': 0, 'nthread': -1, 'seed': 0}\n",
      "MEAN SCORE : accuracy = 0.8406440273680247                                        \n",
      "VARIANCE : 0.020150211634093307 (fold 1 = 0.8268156424581006, fold 2 = 0.8651685393258427, fold 3 = 0.8258426966292135, fold 4 = 0.8202247191011236, fold 5 = 0.8651685393258427)\n",
      "CPU time: 0.38378000259399414 seconds                                             \n",
      "##################################################### testing hyper-parameters... #####################################################\n",
      ">>> NA ENCODER :{'numerical_strategy': 'mean', 'categorical_strategy': '<NULL>'}  \n",
      ">>> CA ENCODER :{'strategy': 'label_encoding'}                                    \n",
      ">>> ESTIMATOR :{'strategy': 'LightGBM', 'colsample_bytree': 0.9344169001466802, 'learning_rate': 0.07, 'max_depth': 9, 'n_estimators': 150, 'subsample': 0.8374690407248749, 'boosting_type': 'gbdt', 'class_weight': None, 'importance_type': 'split', 'min_child_samples': 20, 'min_child_weight': 0.001, 'min_split_gain': 0.0, 'n_jobs': -1, 'num_leaves': 31, 'objective': None, 'random_state': None, 'reg_alpha': 0.0, 'reg_lambda': 0.0, 'silent': True, 'subsample_for_bin': 200000, 'subsample_freq': 0, 'nthread': -1, 'seed': 0}\n",
      "MEAN SCORE : accuracy = 0.8305630531667816                                        \n",
      "VARIANCE : 0.02493513838773782 (fold 1 = 0.7988826815642458, fold 2 = 0.8539325842696629, fold 3 = 0.8202247191011236, fold 4 = 0.8146067415730337, fold 5 = 0.8651685393258427)\n",
      "CPU time: 0.4092535972595215 seconds                                              \n",
      "##################################################### testing hyper-parameters... #####################################################\n",
      ">>> NA ENCODER :{'numerical_strategy': 'mean', 'categorical_strategy': '<NULL>'}  \n",
      ">>> CA ENCODER :{'strategy': 'label_encoding'}                                    \n",
      ">>> ESTIMATOR :{'strategy': 'LightGBM', 'colsample_bytree': 0.9246531064762006, 'learning_rate': 0.07, 'max_depth': 7, 'n_estimators': 150, 'subsample': 0.8265241022875242, 'boosting_type': 'gbdt', 'class_weight': None, 'importance_type': 'split', 'min_child_samples': 20, 'min_child_weight': 0.001, 'min_split_gain': 0.0, 'n_jobs': -1, 'num_leaves': 31, 'objective': None, 'random_state': None, 'reg_alpha': 0.0, 'reg_lambda': 0.0, 'silent': True, 'subsample_for_bin': 200000, 'subsample_freq': 0, 'nthread': -1, 'seed': 0}\n",
      "MEAN SCORE : accuracy = 0.8406440273680247                                        \n",
      "VARIANCE : 0.020150211634093307 (fold 1 = 0.8268156424581006, fold 2 = 0.8651685393258427, fold 3 = 0.8258426966292135, fold 4 = 0.8202247191011236, fold 5 = 0.8651685393258427)\n",
      "CPU time: 0.402815580368042 seconds                                               \n",
      "##################################################### testing hyper-parameters... #####################################################\n",
      ">>> NA ENCODER :{'numerical_strategy': 'mean', 'categorical_strategy': '<NULL>'}  \n",
      ">>> CA ENCODER :{'strategy': 'label_encoding'}                                    \n",
      ">>> ESTIMATOR :{'strategy': 'LightGBM', 'colsample_bytree': 0.9269494839771353, 'learning_rate': 0.07, 'max_depth': 7, 'n_estimators': 150, 'subsample': 0.8126412765945816, 'boosting_type': 'gbdt', 'class_weight': None, 'importance_type': 'split', 'min_child_samples': 20, 'min_child_weight': 0.001, 'min_split_gain': 0.0, 'n_jobs': -1, 'num_leaves': 31, 'objective': None, 'random_state': None, 'reg_alpha': 0.0, 'reg_lambda': 0.0, 'silent': True, 'subsample_for_bin': 200000, 'subsample_freq': 0, 'nthread': -1, 'seed': 0}\n",
      "MEAN SCORE : accuracy = 0.8406440273680247                                        \n",
      "VARIANCE : 0.020150211634093307 (fold 1 = 0.8268156424581006, fold 2 = 0.8651685393258427, fold 3 = 0.8258426966292135, fold 4 = 0.8202247191011236, fold 5 = 0.8651685393258427)\n",
      "CPU time: 0.4090266227722168 seconds                                              \n",
      "##################################################### testing hyper-parameters... #####################################################\n",
      ">>> NA ENCODER :{'numerical_strategy': 'mean', 'categorical_strategy': '<NULL>'}  \n",
      ">>> CA ENCODER :{'strategy': 'label_encoding'}                                    \n",
      ">>> ESTIMATOR :{'strategy': 'LightGBM', 'colsample_bytree': 0.9387458513353182, 'learning_rate': 0.07, 'max_depth': 7, 'n_estimators': 150, 'subsample': 0.8065898976201078, 'boosting_type': 'gbdt', 'class_weight': None, 'importance_type': 'split', 'min_child_samples': 20, 'min_child_weight': 0.001, 'min_split_gain': 0.0, 'n_jobs': -1, 'num_leaves': 31, 'objective': None, 'random_state': None, 'reg_alpha': 0.0, 'reg_lambda': 0.0, 'silent': True, 'subsample_for_bin': 200000, 'subsample_freq': 0, 'nthread': -1, 'seed': 0}\n",
      "MEAN SCORE : accuracy = 0.8350511581193899                                        \n",
      "VARIANCE : 0.0239724626450557 (fold 1 = 0.8044692737430168, fold 2 = 0.8707865168539326, fold 3 = 0.8202247191011236, fold 4 = 0.8258426966292135, fold 5 = 0.8539325842696629)\n",
      "CPU time: 0.3547360897064209 seconds                                              \n",
      "##################################################### testing hyper-parameters... #####################################################\n"
     ]
    },
    {
     "name": "stdout",
     "output_type": "stream",
     "text": [
      ">>> NA ENCODER :{'numerical_strategy': 'mean', 'categorical_strategy': '<NULL>'}  \n",
      ">>> CA ENCODER :{'strategy': 'label_encoding'}                                    \n",
      ">>> ESTIMATOR :{'strategy': 'LightGBM', 'colsample_bytree': 0.8829789773278497, 'learning_rate': 0.07, 'max_depth': 5, 'n_estimators': 150, 'subsample': 0.900020181658433, 'boosting_type': 'gbdt', 'class_weight': None, 'importance_type': 'split', 'min_child_samples': 20, 'min_child_weight': 0.001, 'min_split_gain': 0.0, 'n_jobs': -1, 'num_leaves': 31, 'objective': None, 'random_state': None, 'reg_alpha': 0.0, 'reg_lambda': 0.0, 'silent': True, 'subsample_for_bin': 200000, 'subsample_freq': 0, 'nthread': -1, 'seed': 0}\n",
      "MEAN SCORE : accuracy = 0.8327976900382902                                        \n",
      "VARIANCE : 0.016897571274943367 (fold 1 = 0.8100558659217877, fold 2 = 0.8595505617977528, fold 3 = 0.8258426966292135, fold 4 = 0.8258426966292135, fold 5 = 0.8426966292134831)\n",
      "CPU time: 0.31522107124328613 seconds                                             \n",
      "##################################################### testing hyper-parameters... #####################################################\n",
      ">>> NA ENCODER :{'numerical_strategy': 'mean', 'categorical_strategy': '<NULL>'}  \n",
      ">>> CA ENCODER :{'strategy': 'label_encoding'}                                    \n",
      ">>> ESTIMATOR :{'strategy': 'LightGBM', 'colsample_bytree': 0.8542603166482692, 'learning_rate': 0.07, 'max_depth': 6, 'n_estimators': 150, 'subsample': 0.8706208420494355, 'boosting_type': 'gbdt', 'class_weight': None, 'importance_type': 'split', 'min_child_samples': 20, 'min_child_weight': 0.001, 'min_split_gain': 0.0, 'n_jobs': -1, 'num_leaves': 31, 'objective': None, 'random_state': None, 'reg_alpha': 0.0, 'reg_lambda': 0.0, 'silent': True, 'subsample_for_bin': 200000, 'subsample_freq': 0, 'nthread': -1, 'seed': 0}\n",
      "MEAN SCORE : accuracy = 0.8327851358985626                                        \n",
      "VARIANCE : 0.02384022044232279 (fold 1 = 0.8212290502793296, fold 2 = 0.8707865168539326, fold 3 = 0.8033707865168539, fold 4 = 0.8202247191011236, fold 5 = 0.848314606741573)\n",
      "CPU time: 0.36690282821655273 seconds                                             \n",
      "##################################################### testing hyper-parameters... #####################################################\n",
      ">>> NA ENCODER :{'numerical_strategy': 'mean', 'categorical_strategy': '<NULL>'}  \n",
      ">>> CA ENCODER :{'strategy': 'label_encoding'}                                    \n",
      ">>> ESTIMATOR :{'strategy': 'LightGBM', 'colsample_bytree': 0.8636991628087731, 'learning_rate': 0.07, 'max_depth': 9, 'n_estimators': 150, 'subsample': 0.8847911558017699, 'boosting_type': 'gbdt', 'class_weight': None, 'importance_type': 'split', 'min_child_samples': 20, 'min_child_weight': 0.001, 'min_split_gain': 0.0, 'n_jobs': -1, 'num_leaves': 31, 'objective': None, 'random_state': None, 'reg_alpha': 0.0, 'reg_lambda': 0.0, 'silent': True, 'subsample_for_bin': 200000, 'subsample_freq': 0, 'nthread': -1, 'seed': 0}\n",
      "MEAN SCORE : accuracy = 0.8305630531667816                                        \n",
      "VARIANCE : 0.02493513838773782 (fold 1 = 0.7988826815642458, fold 2 = 0.8539325842696629, fold 3 = 0.8202247191011236, fold 4 = 0.8146067415730337, fold 5 = 0.8651685393258427)\n",
      "CPU time: 0.394550085067749 seconds                                               \n",
      "##################################################### testing hyper-parameters... #####################################################\n",
      ">>> NA ENCODER :{'numerical_strategy': 'mean', 'categorical_strategy': '<NULL>'}  \n",
      ">>> CA ENCODER :{'strategy': 'label_encoding'}                                    \n",
      ">>> ESTIMATOR :{'strategy': 'LightGBM', 'colsample_bytree': 0.8348662927783915, 'learning_rate': 0.07, 'max_depth': 7, 'n_estimators': 150, 'subsample': 0.9021562082906842, 'boosting_type': 'gbdt', 'class_weight': None, 'importance_type': 'split', 'min_child_samples': 20, 'min_child_weight': 0.001, 'min_split_gain': 0.0, 'n_jobs': -1, 'num_leaves': 31, 'objective': None, 'random_state': None, 'reg_alpha': 0.0, 'reg_lambda': 0.0, 'silent': True, 'subsample_for_bin': 200000, 'subsample_freq': 0, 'nthread': -1, 'seed': 0}\n",
      "MEAN SCORE : accuracy = 0.8406440273680247                                        \n",
      "VARIANCE : 0.020150211634093307 (fold 1 = 0.8268156424581006, fold 2 = 0.8651685393258427, fold 3 = 0.8258426966292135, fold 4 = 0.8202247191011236, fold 5 = 0.8651685393258427)\n",
      "CPU time: 0.42203760147094727 seconds                                             \n",
      "##################################################### testing hyper-parameters... #####################################################\n",
      ">>> NA ENCODER :{'numerical_strategy': 'mean', 'categorical_strategy': '<NULL>'}  \n",
      ">>> CA ENCODER :{'strategy': 'label_encoding'}                                    \n",
      ">>> ESTIMATOR :{'strategy': 'LightGBM', 'colsample_bytree': 0.9158699676478403, 'learning_rate': 0.07, 'max_depth': 7, 'n_estimators': 150, 'subsample': 0.9134854128695066, 'boosting_type': 'gbdt', 'class_weight': None, 'importance_type': 'split', 'min_child_samples': 20, 'min_child_weight': 0.001, 'min_split_gain': 0.0, 'n_jobs': -1, 'num_leaves': 31, 'objective': None, 'random_state': None, 'reg_alpha': 0.0, 'reg_lambda': 0.0, 'silent': True, 'subsample_for_bin': 200000, 'subsample_freq': 0, 'nthread': -1, 'seed': 0}\n",
      "MEAN SCORE : accuracy = 0.8406440273680247                                        \n",
      "VARIANCE : 0.020150211634093307 (fold 1 = 0.8268156424581006, fold 2 = 0.8651685393258427, fold 3 = 0.8258426966292135, fold 4 = 0.8202247191011236, fold 5 = 0.8651685393258427)\n",
      "CPU time: 0.39505600929260254 seconds                                             \n",
      "100%|██████████| 40/40 [00:16<00:00,  2.41trial/s, best loss: -0.8406440273680247]\n",
      "\n",
      "\n",
      "~~~~~~~~~~~~~~~~~~~~~~~~~~~~~~~~~~~~~~~~~~~~~~~~~~~~~~~~~~~~~~~~~~~~~~~~~~~~~~~~~~~~~~~~~~~~~~~~~~~~~~~~~~~~~~~~~~~~~~~~~~~~~~~~~~~~~~~~~\n",
      "~~~~~~~~~~~~~~~~~~~~~~~~~~~~~~~~~~~~~~~~~~~~~~~~~~~~~~~~~ BEST HYPER-PARAMETERS ~~~~~~~~~~~~~~~~~~~~~~~~~~~~~~~~~~~~~~~~~~~~~~~~~~~~~~~~~\n",
      "~~~~~~~~~~~~~~~~~~~~~~~~~~~~~~~~~~~~~~~~~~~~~~~~~~~~~~~~~~~~~~~~~~~~~~~~~~~~~~~~~~~~~~~~~~~~~~~~~~~~~~~~~~~~~~~~~~~~~~~~~~~~~~~~~~~~~~~~~\n",
      "\n",
      "{'est__colsample_bytree': 0.8991239932238378, 'est__learning_rate': 0.07, 'est__max_depth': 7, 'est__n_estimators': 150, 'est__strategy': 'LightGBM', 'est__subsample': 0.8634579512497651}\n"
     ]
    }
   ],
   "source": [
    "best=opt.optimise(space, df, 40)"
   ]
  },
  {
   "cell_type": "markdown",
   "id": "772af53d",
   "metadata": {},
   "source": [
    "There's clearly very good potential of more improvement if we define a better space of search or stacking operations and maybe other feature selection techniques. You can also see the best hyper parameters."
   ]
  },
  {
   "cell_type": "markdown",
   "id": "67d82f54",
   "metadata": {},
   "source": [
    "### Predicción"
   ]
  },
  {
   "cell_type": "code",
   "execution_count": 10,
   "id": "greater-attraction",
   "metadata": {
    "scrolled": true
   },
   "outputs": [
    {
     "name": "stdout",
     "output_type": "stream",
     "text": [
      "\n",
      "fitting the pipeline ...\n",
      "CPU time: 0.07462739944458008 seconds\n",
      "\n",
      "> Feature importances dumped into directory : save\n",
      "\n",
      "predicting ...\n",
      "CPU time: 0.025141000747680664 seconds\n",
      "\n",
      "> Overview on predictions : \n",
      "\n",
      "        0.0       1.0  Survived_predicted\n",
      "0  0.942566  0.057434                   0\n",
      "1  0.858133  0.141867                   0\n",
      "2  0.856725  0.143275                   0\n",
      "3  0.753483  0.246517                   0\n",
      "4  0.565863  0.434137                   0\n",
      "5  0.426308  0.573692                   1\n",
      "6  0.504417  0.495583                   0\n",
      "7  0.868120  0.131880                   0\n",
      "8  0.094938  0.905062                   1\n",
      "9  0.975677  0.024323                   0\n",
      "\n",
      "dumping predictions into directory : save ...\n"
     ]
    },
    {
     "data": {
      "text/plain": [
       "<mlbox.prediction.predictor.Predictor at 0x7fe1cd8e7dd0>"
      ]
     },
     "execution_count": 10,
     "metadata": {},
     "output_type": "execute_result"
    }
   ],
   "source": [
    "prd = Predictor()\n",
    "prd.fit_predict(best, df)"
   ]
  },
  {
   "attachments": {
    "LightGBM_feature_importance.png": {
     "image/png": "[encoded data removed]"
    }
   },
   "cell_type": "markdown",
   "id": "capital-premises",
   "metadata": {},
   "source": [
    "El método anterior guarda la importancia de la característica, los coeficientes de las variables de deriva y las predicciones finales en una carpeta separada llamada 'save'.\n",
    "\n",
    "![LightGBM_feature_importance.png](attachment:LightGBM_feature_importance.png)"
   ]
  },
  {
   "cell_type": "code",
   "execution_count": 12,
   "id": "193471d9",
   "metadata": {},
   "outputs": [
    {
     "name": "stdout",
     "output_type": "stream",
     "text": [
      "\n",
      "##################################################### testing hyper-parameters... #####################################################\n",
      "\n",
      ">>> NA ENCODER :{'numerical_strategy': 'mean', 'categorical_strategy': '<NULL>'}\n",
      "\n",
      ">>> CA ENCODER :{'strategy': 'label_encoding'}\n",
      "\n",
      ">>> ESTIMATOR :{'strategy': 'LightGBM', 'colsample_bytree': 0.8991239932238378, 'learning_rate': 0.07, 'max_depth': 7, 'n_estimators': 150, 'subsample': 0.8634579512497651, 'boosting_type': 'gbdt', 'class_weight': None, 'importance_type': 'split', 'min_child_samples': 20, 'min_child_weight': 0.001, 'min_split_gain': 0.0, 'n_jobs': -1, 'num_leaves': 31, 'objective': None, 'random_state': None, 'reg_alpha': 0.0, 'reg_lambda': 0.0, 'silent': True, 'subsample_for_bin': 200000, 'subsample_freq': 0, 'nthread': -1, 'seed': 0}\n",
      "\n",
      "\n",
      "MEAN SCORE : accuracy = 0.8406440273680247\n",
      "VARIANCE : 0.020150211634093307 (fold 1 = 0.8268156424581006, fold 2 = 0.8651685393258427, fold 3 = 0.8258426966292135, fold 4 = 0.8202247191011236, fold 5 = 0.8651685393258427)\n",
      "CPU time: 0.35365843772888184 seconds\n",
      "\n"
     ]
    },
    {
     "data": {
      "text/plain": [
       "0.8406440273680247"
      ]
     },
     "execution_count": 12,
     "metadata": {},
     "output_type": "execute_result"
    }
   ],
   "source": [
    "opt.evaluate(best, df)"
   ]
  }
 ],
 "metadata": {
  "kernelspec": {
   "display_name": "Python 3",
   "language": "python",
   "name": "python3"
  },
  "language_info": {
   "codemirror_mode": {
    "name": "ipython",
    "version": 3
   },
   "file_extension": ".py",
   "mimetype": "text/x-python",
   "name": "python",
   "nbconvert_exporter": "python",
   "pygments_lexer": "ipython3",
   "version": "3.8.8"
  }
 },
 "nbformat": 4,
 "nbformat_minor": 5
}
