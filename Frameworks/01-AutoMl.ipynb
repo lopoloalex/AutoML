{
 "cells": [
  {
   "cell_type": "markdown",
   "metadata": {
    "papermill": {
     "duration": 0.020522,
     "end_time": "2020-08-16T17:16:16.700428",
     "exception": false,
     "start_time": "2020-08-16T17:16:16.679906",
     "status": "completed"
    },
    "tags": []
   },
   "source": [
    "### En este Notebook se comparan varios de los frameworks más utilizados en autoML. \n",
    "\n",
    "### Contents\n",
    "\n",
    "1. [AutoML](#AutoMl)\n",
    "\n",
    "2. [Auto-sklearn](02-AutoSklearn.ipynb)\n",
    "\n",
    "3. [MLBOX](03-ML-BOX.ipynb)\n",
    "\n",
    "4. [H2o](04-H2o.ipynb)\n",
    "\n",
    "5. [TPOT](05-TPOT.ipynb)\n",
    "\n",
    "6. [Autokeras](06-AutoKeras.ipynb)\n",
    "\n",
    "7. [PyCaret](07-PyCaret.ipynb)\n"
   ]
  },
  {
   "cell_type": "markdown",
   "metadata": {
    "papermill": {
     "duration": 0.020325,
     "end_time": "2020-08-16T17:16:16.741719",
     "exception": false,
     "start_time": "2020-08-16T17:16:16.721394",
     "status": "completed"
    },
    "tags": []
   },
   "source": [
    "<a id=\"AutoMl\"></a>\n",
    "\n",
    "# AutoML?\n",
    "\n",
    "Nos referimos con AutoML (automated machine learning) al proceso de aplicar machine learning en un escenario práctico, ejecutando el end-to-end del proceso de manera automática.\n",
    "\n",
    "### Ventajas\n",
    "\n",
    "Aumenta la productividad automatizando tareas repetitivas. Permitiendo al cientifico de datos centrarse más en el problema que en los modelos.\n",
    "\n",
    "Automatizar el proceso evita errores que puedan sugir al relizarse de manera manual.\n",
    "\n",
    "Permitir que el uso de ML sea accesible a cualquier entidad o persona."
   ]
  }
 ],
 "metadata": {
  "kernelspec": {
   "display_name": "Python 3",
   "language": "python",
   "name": "python3"
  },
  "language_info": {
   "codemirror_mode": {
    "name": "ipython",
    "version": 3
   },
   "file_extension": ".py",
   "mimetype": "text/x-python",
   "name": "python",
   "nbconvert_exporter": "python",
   "pygments_lexer": "ipython3",
   "version": "3.8.8"
  }
 },
 "nbformat": 4,
 "nbformat_minor": 4
}
