{
 "cells": [
  {
   "cell_type": "markdown",
   "id": "c81639d7",
   "metadata": {},
   "source": [
    "# H2o\n",
    "\n",
    "![](https://i1.wp.com/datasmarts.net/es/wp-content/uploads/2019/09/1_u7swL7CrX0UW_lIScu1eDQ.png?fit=802%2C352&ssl=1)\n",
    "\n",
    "\n",
    "[H2O](http://docs.h2o.ai/h2o/latest-stable/h2o-docs/index.html#) es una plataforma de código abierto, en memoria, distribuida, rápida y escalable de aprendizaje automático y análisis predictivo que permite la construcción de modelos de aprendizaje automático de manera sencilla y accesible. \n",
    "\n",
    "H2o cuenta con un producto de pago y otro de código abierto, para este análisis solo se tiene en cuenta las herramientas gratuitas que ofrece la plataforma.\n",
    "\n",
    "El código de H2O está escrito en Java. H2O,  utiliza un almacén distribuido de clave/valor para acceder y referenciar datos, modelos, objetos, etc., en todos los nodos y máquinas. Los algoritmos se implementan de manera distribuida mediante el uso del framework Map/Reduce de H2O y  el de Java Fork/Join para el multihilo. Los datos se leen en paralelo, se distribuyen por todo el clúster y se almacenan en memoria en formato de columnas comprimidas. El analizador de datos de H2O tiene la capacidad de detectar el esquema de los datos de entrada y admite la ingesta de datos de múltiples fuentes en varios formatos.\n",
    "\n",
    "Cuenta con una REST API e incorpora funcionalidades visuales (accediendo al servidor desde el navegador) para facilitar el uso del ML a personas no especializadas."
   ]
  },
  {
   "cell_type": "markdown",
   "id": "2e181aad",
   "metadata": {},
   "source": [
    "## Instalación\n",
    "\n",
    "Para instalar la API de H20 en python para poder comunicarnos con el servidor Java, se necesita instalar los siguientes requisitos:"
   ]
  },
  {
   "cell_type": "code",
   "execution_count": 1,
   "id": "c9e8636f",
   "metadata": {},
   "outputs": [
    {
     "name": "stdout",
     "output_type": "stream",
     "text": [
      "Requirement already satisfied: requests in /usr/local/lib/python3.7/site-packages (2.25.1)\n",
      "Requirement already satisfied: urllib3<1.27,>=1.21.1 in /usr/local/lib/python3.7/site-packages (from requests) (1.26.3)\n",
      "Requirement already satisfied: idna<3,>=2.5 in /usr/local/lib/python3.7/site-packages (from requests) (2.10)\n",
      "Requirement already satisfied: chardet<5,>=3.0.2 in /usr/local/lib/python3.7/site-packages (from requests) (4.0.0)\n",
      "Requirement already satisfied: certifi>=2017.4.17 in /usr/local/lib/python3.7/site-packages (from requests) (2020.12.5)\n",
      "Collecting tabulate\n",
      "  Downloading tabulate-0.8.9-py3-none-any.whl (25 kB)\n",
      "Installing collected packages: tabulate\n",
      "Successfully installed tabulate-0.8.9\n",
      "Collecting colorama>=0.3.8\n",
      "  Downloading colorama-0.4.4-py2.py3-none-any.whl (16 kB)\n",
      "Installing collected packages: colorama\n",
      "Successfully installed colorama-0.4.4\n",
      "Requirement already satisfied: future in /usr/local/lib/python3.7/site-packages (0.18.2)\n"
     ]
    }
   ],
   "source": [
    "!pip install requests\n",
    "!pip install tabulate\n",
    "!pip install \"colorama>=0.3.8\"\n",
    "!pip install future\n"
   ]
  },
  {
   "cell_type": "markdown",
   "id": "7bdf238c",
   "metadata": {},
   "source": [
    "Por último, para instalar h2o"
   ]
  },
  {
   "cell_type": "code",
   "execution_count": 2,
   "id": "ace12779",
   "metadata": {},
   "outputs": [
    {
     "name": "stdout",
     "output_type": "stream",
     "text": [
      "Looking in links: http://h2o-release.s3.amazonaws.com/h2o/latest_stable_Py.html\n",
      "\u001b[33mWARNING: The repository located at h2o-release.s3.amazonaws.com is not a trusted or secure host and is being ignored. If this repository is available via HTTPS we recommend you use HTTPS instead, otherwise you may silence this warning and allow it anyway with '--trusted-host h2o-release.s3.amazonaws.com'.\u001b[0m\n",
      "Collecting h2o\n",
      "  Downloading h2o-3.32.1.1.tar.gz (164.8 MB)\n",
      "\u001b[K     |████████████████████████████████| 164.8 MB 27.3 MB/s eta 0:00:01\n",
      "\u001b[?25hRequirement already satisfied: requests in /usr/local/lib/python3.7/site-packages (from h2o) (2.25.1)\n",
      "Requirement already satisfied: tabulate in /usr/local/lib/python3.7/site-packages (from h2o) (0.8.9)\n",
      "Requirement already satisfied: future in /usr/local/lib/python3.7/site-packages (from h2o) (0.18.2)\n",
      "Requirement already satisfied: colorama>=0.3.8 in /usr/local/lib/python3.7/site-packages (from h2o) (0.4.4)\n",
      "Requirement already satisfied: idna<3,>=2.5 in /usr/local/lib/python3.7/site-packages (from requests->h2o) (2.10)\n",
      "Requirement already satisfied: certifi>=2017.4.17 in /usr/local/lib/python3.7/site-packages (from requests->h2o) (2020.12.5)\n",
      "Requirement already satisfied: chardet<5,>=3.0.2 in /usr/local/lib/python3.7/site-packages (from requests->h2o) (4.0.0)\n",
      "Requirement already satisfied: urllib3<1.27,>=1.21.1 in /usr/local/lib/python3.7/site-packages (from requests->h2o) (1.26.3)\n",
      "Building wheels for collected packages: h2o\n",
      "  Building wheel for h2o (setup.py) ... \u001b[?25ldone\n",
      "\u001b[?25h  Created wheel for h2o: filename=h2o-3.32.1.1-py2.py3-none-any.whl size=164840229 sha256=a218ca60314828ee48f9142790596d6488e31d48f7879a52a374e365265e4d91\n",
      "  Stored in directory: /root/.cache/pip/wheels/85/cb/f5/a72d41b4676331c29bbc5bb881bc2ac2fea8a10a4960f3488d\n",
      "Successfully built h2o\n",
      "Installing collected packages: h2o\n",
      "Successfully installed h2o-3.32.1.1\n"
     ]
    }
   ],
   "source": [
    "!pip install -f http://h2o-release.s3.amazonaws.com/h2o/latest_stable_Py.html h2o\n"
   ]
  },
  {
   "cell_type": "markdown",
   "id": "e2949d44",
   "metadata": {},
   "source": [
    "Es importante destacar que para poder utilizar H2O debe de encontrarse un [servidor](http://docs.h2o.ai/h2o/latest-stable/h2o-docs/downloading.html) ejecutandolo.\n",
    "<img src=\"http://docs.h2o.ai/h2o/latest-stable/h2o-docs/_images/h2o_stack.png\" alt=\"Drawing\" style=\"width: 500px;\"/>\n"
   ]
  },
  {
   "cell_type": "markdown",
   "id": "6549371a",
   "metadata": {},
   "source": [
    "## Pruebas"
   ]
  },
  {
   "cell_type": "code",
   "execution_count": 3,
   "id": "32d81d6a",
   "metadata": {},
   "outputs": [],
   "source": [
    "import h2o\n",
    "from h2o.automl import H2OAutoML"
   ]
  },
  {
   "cell_type": "markdown",
   "id": "1a11b96d",
   "metadata": {},
   "source": [
    "El servidor H2O para realizar las pruebas , esta siendo ejecutado en el host, mientras que Jupyter Notebook  esta ejecutando dentro de un contenedor Docker."
   ]
  },
  {
   "cell_type": "code",
   "execution_count": 7,
   "id": "75c220bb",
   "metadata": {},
   "outputs": [
    {
     "name": "stdout",
     "output_type": "stream",
     "text": [
      "Checking whether there is an H2O instance running at http://192.168.1.51:54325 . connected.\n"
     ]
    },
    {
     "data": {
      "text/html": [
       "<div style=\"overflow:auto\"><table style=\"width:50%\"><tr><td>H2O_cluster_uptime:</td>\n",
       "<td>29 mins 56 secs</td></tr>\n",
       "<tr><td>H2O_cluster_timezone:</td>\n",
       "<td>Europe/Madrid</td></tr>\n",
       "<tr><td>H2O_data_parsing_timezone:</td>\n",
       "<td>UTC</td></tr>\n",
       "<tr><td>H2O_cluster_version:</td>\n",
       "<td>3.32.1.1</td></tr>\n",
       "<tr><td>H2O_cluster_version_age:</td>\n",
       "<td>19 days </td></tr>\n",
       "<tr><td>H2O_cluster_name:</td>\n",
       "<td>alejandro</td></tr>\n",
       "<tr><td>H2O_cluster_total_nodes:</td>\n",
       "<td>1</td></tr>\n",
       "<tr><td>H2O_cluster_free_memory:</td>\n",
       "<td>3.541 Gb</td></tr>\n",
       "<tr><td>H2O_cluster_total_cores:</td>\n",
       "<td>8</td></tr>\n",
       "<tr><td>H2O_cluster_allowed_cores:</td>\n",
       "<td>8</td></tr>\n",
       "<tr><td>H2O_cluster_status:</td>\n",
       "<td>locked, healthy</td></tr>\n",
       "<tr><td>H2O_connection_url:</td>\n",
       "<td>http://192.168.1.51:54325</td></tr>\n",
       "<tr><td>H2O_connection_proxy:</td>\n",
       "<td>null</td></tr>\n",
       "<tr><td>H2O_internal_security:</td>\n",
       "<td>False</td></tr>\n",
       "<tr><td>H2O_API_Extensions:</td>\n",
       "<td>Amazon S3, XGBoost, Algos, AutoML, Core V3, TargetEncoder, Core V4</td></tr>\n",
       "<tr><td>Python_version:</td>\n",
       "<td>3.7.10 final</td></tr></table></div>"
      ],
      "text/plain": [
       "--------------------------  ------------------------------------------------------------------\n",
       "H2O_cluster_uptime:         29 mins 56 secs\n",
       "H2O_cluster_timezone:       Europe/Madrid\n",
       "H2O_data_parsing_timezone:  UTC\n",
       "H2O_cluster_version:        3.32.1.1\n",
       "H2O_cluster_version_age:    19 days\n",
       "H2O_cluster_name:           alejandro\n",
       "H2O_cluster_total_nodes:    1\n",
       "H2O_cluster_free_memory:    3.541 Gb\n",
       "H2O_cluster_total_cores:    8\n",
       "H2O_cluster_allowed_cores:  8\n",
       "H2O_cluster_status:         locked, healthy\n",
       "H2O_connection_url:         http://192.168.1.51:54325\n",
       "H2O_connection_proxy:       null\n",
       "H2O_internal_security:      False\n",
       "H2O_API_Extensions:         Amazon S3, XGBoost, Algos, AutoML, Core V3, TargetEncoder, Core V4\n",
       "Python_version:             3.7.10 final\n",
       "--------------------------  ------------------------------------------------------------------"
      ]
     },
     "metadata": {},
     "output_type": "display_data"
    },
    {
     "name": "stdout",
     "output_type": "stream",
     "text": [
      "Parse progress: |█████████████████████████████████████████████████████████| 100%\n"
     ]
    }
   ],
   "source": [
    "#h2o.init(ip=\"host.docker.internal\")\n",
    "h2o.init(ip=\"192.168.1.51\",port=54325) #IP java server\n",
    "\n",
    "df = h2o.upload_file(\"./titanic/train.csv\")\n",
    "train, test = df.split_frame([0.7], seed=42)"
   ]
  },
  {
   "cell_type": "code",
   "execution_count": 8,
   "id": "eb9c8c74",
   "metadata": {},
   "outputs": [
    {
     "data": {
      "text/html": [
       "<table>\n",
       "<thead>\n",
       "<tr><th style=\"text-align: right;\">  PassengerId</th><th style=\"text-align: right;\">  Survived</th><th style=\"text-align: right;\">  Pclass</th><th>Name                                               </th><th>Sex   </th><th style=\"text-align: right;\">  Age</th><th style=\"text-align: right;\">  SibSp</th><th style=\"text-align: right;\">  Parch</th><th style=\"text-align: right;\">  Ticket</th><th style=\"text-align: right;\">   Fare</th><th>Cabin  </th><th>Embarked  </th></tr>\n",
       "</thead>\n",
       "<tbody>\n",
       "<tr><td style=\"text-align: right;\">            1</td><td style=\"text-align: right;\">         0</td><td style=\"text-align: right;\">       3</td><td>Braund, Mr. Owen Harris                            </td><td>male  </td><td style=\"text-align: right;\">   22</td><td style=\"text-align: right;\">      1</td><td style=\"text-align: right;\">      0</td><td style=\"text-align: right;\">     nan</td><td style=\"text-align: right;\"> 7.25  </td><td>       </td><td>S         </td></tr>\n",
       "<tr><td style=\"text-align: right;\">            2</td><td style=\"text-align: right;\">         1</td><td style=\"text-align: right;\">       1</td><td>Cumings, Mrs. John Bradley (Florence Briggs Thayer)</td><td>female</td><td style=\"text-align: right;\">   38</td><td style=\"text-align: right;\">      1</td><td style=\"text-align: right;\">      0</td><td style=\"text-align: right;\">     nan</td><td style=\"text-align: right;\">71.2833</td><td>C85    </td><td>C         </td></tr>\n",
       "</tbody>\n",
       "</table>"
      ]
     },
     "metadata": {},
     "output_type": "display_data"
    },
    {
     "data": {
      "text/plain": []
     },
     "execution_count": 8,
     "metadata": {},
     "output_type": "execute_result"
    }
   ],
   "source": [
    "train.head(2)"
   ]
  },
  {
   "cell_type": "code",
   "execution_count": 9,
   "id": "6084df33",
   "metadata": {},
   "outputs": [],
   "source": [
    "y = \"Survived\"\n",
    "\n",
    "ignore = [\"Survived\", \"PassengerId\", \"Name\"] \n",
    "\n",
    "x = list(set(train.names) - set(ignore))"
   ]
  },
  {
   "cell_type": "code",
   "execution_count": 10,
   "id": "d6e3890a",
   "metadata": {},
   "outputs": [],
   "source": [
    "splits = df.split_frame(ratios=[0.7], seed=1)\n",
    "\n",
    "train = splits[0]\n",
    "\n",
    "test = splits[1]"
   ]
  },
  {
   "cell_type": "code",
   "execution_count": 11,
   "id": "ba6649c3",
   "metadata": {},
   "outputs": [],
   "source": [
    "y = \"Survived\" \n",
    "\n",
    "x = df.columns \n",
    "\n",
    "x.remove(y) \n",
    "\n",
    "x.remove(\"PassengerId\")\n",
    "\n",
    "x.remove(\"Name\")"
   ]
  },
  {
   "cell_type": "markdown",
   "id": "578d1fa2",
   "metadata": {},
   "source": [
    "A continuación, ejecutamos AutoML.\n",
    "\n",
    "Los únicos parámetros necesarios para ejecutar AutoML en H2O son, ytraining_frame, y max_runtime_secs, que nos permiten entrenar el AutoML durante una cantidad máxima de segundos y/o max_models, que entrenaría un número máximo de modelos, max_runtime_secs tiene un valor por defecto, mientras que max_models no. Para esta tarea, estableceremos una restricción de número de modelos. \n",
    "\n",
    "La segunda línea de código tiene los parámetros que necesitamos para entrenar nuestro modelo. Por ahora, sólo pasaremos x, y, junto a los datos de entrenamiento.\n",
    "\n",
    "Una vez que el proceso de AutoML haya terminado, se puede comprobar los resultados en la tabla de clasificación (leaderboard)."
   ]
  },
  {
   "cell_type": "code",
   "execution_count": 12,
   "id": "a47b98fa",
   "metadata": {},
   "outputs": [
    {
     "name": "stdout",
     "output_type": "stream",
     "text": [
      "AutoML progress: |████████████████████████████████████████████████████████| 100%\n",
      "CPU times: user 3.71 s, sys: 354 ms, total: 4.06 s\n",
      "Wall time: 1min 21s\n"
     ]
    }
   ],
   "source": [
    "#H2OAutoML(nfolds=5, max_runtime_secs=3600, max_models=None, stopping_metric='AUTO', stopping_tolerance=None, stopping_rounds=3, seed=None, project_name=None)\n",
    "\n",
    "aml = H2OAutoML(max_models=25, max_runtime_secs_per_model=30, seed=42)\n",
    "\n",
    "%time aml.train(x=x, y=y, training_frame=train)\n",
    "\n",
    "#aml = H2OAutoML(max_runtime_secs=120, seed=1)\n",
    "\n",
    "#aml.train(x=x,y=y, training_frame=train)"
   ]
  },
  {
   "cell_type": "code",
   "execution_count": 13,
   "id": "50ea2e4e",
   "metadata": {},
   "outputs": [
    {
     "data": {
      "text/html": [
       "<table>\n",
       "<thead>\n",
       "<tr><th>model_id                                           </th><th style=\"text-align: right;\">  mean_residual_deviance</th><th style=\"text-align: right;\">    rmse</th><th style=\"text-align: right;\">     mse</th><th style=\"text-align: right;\">     mae</th><th style=\"text-align: right;\">   rmsle</th></tr>\n",
       "</thead>\n",
       "<tbody>\n",
       "<tr><td>StackedEnsemble_AllModels_AutoML_20210413_202418   </td><td style=\"text-align: right;\">                0.125775</td><td style=\"text-align: right;\">0.354647</td><td style=\"text-align: right;\">0.125775</td><td style=\"text-align: right;\">0.252186</td><td style=\"text-align: right;\">0.24989 </td></tr>\n",
       "<tr><td>StackedEnsemble_BestOfFamily_AutoML_20210413_202418</td><td style=\"text-align: right;\">                0.125904</td><td style=\"text-align: right;\">0.354829</td><td style=\"text-align: right;\">0.125904</td><td style=\"text-align: right;\">0.25613 </td><td style=\"text-align: right;\">0.249983</td></tr>\n",
       "<tr><td>GBM_3_AutoML_20210413_202418                       </td><td style=\"text-align: right;\">                0.126132</td><td style=\"text-align: right;\">0.355151</td><td style=\"text-align: right;\">0.126132</td><td style=\"text-align: right;\">0.252695</td><td style=\"text-align: right;\">0.25241 </td></tr>\n",
       "<tr><td>GBM_2_AutoML_20210413_202418                       </td><td style=\"text-align: right;\">                0.126334</td><td style=\"text-align: right;\">0.355435</td><td style=\"text-align: right;\">0.126334</td><td style=\"text-align: right;\">0.250513</td><td style=\"text-align: right;\">0.250022</td></tr>\n",
       "<tr><td>GBM_grid__1_AutoML_20210413_202418_model_1         </td><td style=\"text-align: right;\">                0.12909 </td><td style=\"text-align: right;\">0.359291</td><td style=\"text-align: right;\">0.12909 </td><td style=\"text-align: right;\">0.244046</td><td style=\"text-align: right;\">0.255114</td></tr>\n",
       "<tr><td>DeepLearning_grid__1_AutoML_20210413_202418_model_1</td><td style=\"text-align: right;\">                0.13119 </td><td style=\"text-align: right;\">0.362201</td><td style=\"text-align: right;\">0.13119 </td><td style=\"text-align: right;\">0.267682</td><td style=\"text-align: right;\">0.256033</td></tr>\n",
       "<tr><td>GBM_1_AutoML_20210413_202418                       </td><td style=\"text-align: right;\">                0.132232</td><td style=\"text-align: right;\">0.363637</td><td style=\"text-align: right;\">0.132232</td><td style=\"text-align: right;\">0.250702</td><td style=\"text-align: right;\">0.258319</td></tr>\n",
       "<tr><td>DRF_1_AutoML_20210413_202418                       </td><td style=\"text-align: right;\">                0.132756</td><td style=\"text-align: right;\">0.364357</td><td style=\"text-align: right;\">0.132756</td><td style=\"text-align: right;\">0.246284</td><td style=\"text-align: right;\">0.258116</td></tr>\n",
       "<tr><td>XRT_1_AutoML_20210413_202418                       </td><td style=\"text-align: right;\">                0.134163</td><td style=\"text-align: right;\">0.366283</td><td style=\"text-align: right;\">0.134163</td><td style=\"text-align: right;\">0.268316</td><td style=\"text-align: right;\">0.257887</td></tr>\n",
       "<tr><td>GBM_4_AutoML_20210413_202418                       </td><td style=\"text-align: right;\">                0.135242</td><td style=\"text-align: right;\">0.367752</td><td style=\"text-align: right;\">0.135242</td><td style=\"text-align: right;\">0.262284</td><td style=\"text-align: right;\">0.261469</td></tr>\n",
       "</tbody>\n",
       "</table>"
      ]
     },
     "metadata": {},
     "output_type": "display_data"
    },
    {
     "data": {
      "text/plain": []
     },
     "execution_count": 13,
     "metadata": {},
     "output_type": "execute_result"
    }
   ],
   "source": [
    "lb = aml.leaderboard\n",
    "lb.head()"
   ]
  },
  {
   "cell_type": "markdown",
   "id": "70fe4b14",
   "metadata": {},
   "source": [
    "También se puede imprimir el leaderboard con otro tipo de datos como puede ser el tiempo de entrenamiento, de cada modelo y el tiempo que tarda cada modelo en predecir cada fila, en milisegundos:"
   ]
  },
  {
   "cell_type": "code",
   "execution_count": 14,
   "id": "d4be2c1c",
   "metadata": {},
   "outputs": [
    {
     "data": {
      "text/html": [
       "<table>\n",
       "<thead>\n",
       "<tr><th>model_id                                           </th><th style=\"text-align: right;\">  mean_residual_deviance</th><th style=\"text-align: right;\">    rmse</th><th style=\"text-align: right;\">     mse</th><th style=\"text-align: right;\">     mae</th><th style=\"text-align: right;\">   rmsle</th><th style=\"text-align: right;\">  training_time_ms</th><th style=\"text-align: right;\">  predict_time_per_row_ms</th><th>algo           </th></tr>\n",
       "</thead>\n",
       "<tbody>\n",
       "<tr><td>StackedEnsemble_AllModels_AutoML_20210413_202418   </td><td style=\"text-align: right;\">                0.125775</td><td style=\"text-align: right;\">0.354647</td><td style=\"text-align: right;\">0.125775</td><td style=\"text-align: right;\">0.252186</td><td style=\"text-align: right;\">0.24989 </td><td style=\"text-align: right;\">               155</td><td style=\"text-align: right;\">                 0.100879</td><td>StackedEnsemble</td></tr>\n",
       "<tr><td>StackedEnsemble_BestOfFamily_AutoML_20210413_202418</td><td style=\"text-align: right;\">                0.125904</td><td style=\"text-align: right;\">0.354829</td><td style=\"text-align: right;\">0.125904</td><td style=\"text-align: right;\">0.25613 </td><td style=\"text-align: right;\">0.249983</td><td style=\"text-align: right;\">               130</td><td style=\"text-align: right;\">                 0.049878</td><td>StackedEnsemble</td></tr>\n",
       "<tr><td>GBM_3_AutoML_20210413_202418                       </td><td style=\"text-align: right;\">                0.126132</td><td style=\"text-align: right;\">0.355151</td><td style=\"text-align: right;\">0.126132</td><td style=\"text-align: right;\">0.252695</td><td style=\"text-align: right;\">0.25241 </td><td style=\"text-align: right;\">               185</td><td style=\"text-align: right;\">                 0.018523</td><td>GBM            </td></tr>\n",
       "<tr><td>GBM_2_AutoML_20210413_202418                       </td><td style=\"text-align: right;\">                0.126334</td><td style=\"text-align: right;\">0.355435</td><td style=\"text-align: right;\">0.126334</td><td style=\"text-align: right;\">0.250513</td><td style=\"text-align: right;\">0.250022</td><td style=\"text-align: right;\">               200</td><td style=\"text-align: right;\">                 0.013191</td><td>GBM            </td></tr>\n",
       "<tr><td>GBM_grid__1_AutoML_20210413_202418_model_1         </td><td style=\"text-align: right;\">                0.12909 </td><td style=\"text-align: right;\">0.359291</td><td style=\"text-align: right;\">0.12909 </td><td style=\"text-align: right;\">0.244046</td><td style=\"text-align: right;\">0.255114</td><td style=\"text-align: right;\">               150</td><td style=\"text-align: right;\">                 0.013817</td><td>GBM            </td></tr>\n",
       "<tr><td>DeepLearning_grid__1_AutoML_20210413_202418_model_1</td><td style=\"text-align: right;\">                0.13119 </td><td style=\"text-align: right;\">0.362201</td><td style=\"text-align: right;\">0.13119 </td><td style=\"text-align: right;\">0.267682</td><td style=\"text-align: right;\">0.256033</td><td style=\"text-align: right;\">              2660</td><td style=\"text-align: right;\">                 0.015859</td><td>DeepLearning   </td></tr>\n",
       "<tr><td>GBM_1_AutoML_20210413_202418                       </td><td style=\"text-align: right;\">                0.132232</td><td style=\"text-align: right;\">0.363637</td><td style=\"text-align: right;\">0.132232</td><td style=\"text-align: right;\">0.250702</td><td style=\"text-align: right;\">0.258319</td><td style=\"text-align: right;\">               188</td><td style=\"text-align: right;\">                 0.010395</td><td>GBM            </td></tr>\n",
       "<tr><td>DRF_1_AutoML_20210413_202418                       </td><td style=\"text-align: right;\">                0.132756</td><td style=\"text-align: right;\">0.364357</td><td style=\"text-align: right;\">0.132756</td><td style=\"text-align: right;\">0.246284</td><td style=\"text-align: right;\">0.258116</td><td style=\"text-align: right;\">               208</td><td style=\"text-align: right;\">                 0.012884</td><td>DRF            </td></tr>\n",
       "<tr><td>XRT_1_AutoML_20210413_202418                       </td><td style=\"text-align: right;\">                0.134163</td><td style=\"text-align: right;\">0.366283</td><td style=\"text-align: right;\">0.134163</td><td style=\"text-align: right;\">0.268316</td><td style=\"text-align: right;\">0.257887</td><td style=\"text-align: right;\">               200</td><td style=\"text-align: right;\">                 0.013865</td><td>DRF            </td></tr>\n",
       "<tr><td>GBM_4_AutoML_20210413_202418                       </td><td style=\"text-align: right;\">                0.135242</td><td style=\"text-align: right;\">0.367752</td><td style=\"text-align: right;\">0.135242</td><td style=\"text-align: right;\">0.262284</td><td style=\"text-align: right;\">0.261469</td><td style=\"text-align: right;\">               115</td><td style=\"text-align: right;\">                 0.01232 </td><td>GBM            </td></tr>\n",
       "<tr><td>XGBoost_grid__1_AutoML_20210413_202418_model_6     </td><td style=\"text-align: right;\">                0.135414</td><td style=\"text-align: right;\">0.367987</td><td style=\"text-align: right;\">0.135414</td><td style=\"text-align: right;\">0.260163</td><td style=\"text-align: right;\">0.263094</td><td style=\"text-align: right;\">               101</td><td style=\"text-align: right;\">                 0.002531</td><td>XGBoost        </td></tr>\n",
       "<tr><td>GBM_grid__1_AutoML_20210413_202418_model_4         </td><td style=\"text-align: right;\">                0.136155</td><td style=\"text-align: right;\">0.368991</td><td style=\"text-align: right;\">0.136155</td><td style=\"text-align: right;\">0.228973</td><td style=\"text-align: right;\">0.258831</td><td style=\"text-align: right;\">               235</td><td style=\"text-align: right;\">                 0.011716</td><td>GBM            </td></tr>\n",
       "<tr><td>DeepLearning_grid__3_AutoML_20210413_202418_model_1</td><td style=\"text-align: right;\">                0.136225</td><td style=\"text-align: right;\">0.369087</td><td style=\"text-align: right;\">0.136225</td><td style=\"text-align: right;\">0.268698</td><td style=\"text-align: right;\">0.261132</td><td style=\"text-align: right;\">              2812</td><td style=\"text-align: right;\">                 0.034564</td><td>DeepLearning   </td></tr>\n",
       "<tr><td>XGBoost_grid__1_AutoML_20210413_202418_model_5     </td><td style=\"text-align: right;\">                0.136452</td><td style=\"text-align: right;\">0.369394</td><td style=\"text-align: right;\">0.136452</td><td style=\"text-align: right;\">0.248007</td><td style=\"text-align: right;\">0.261916</td><td style=\"text-align: right;\">               108</td><td style=\"text-align: right;\">                 0.003065</td><td>XGBoost        </td></tr>\n",
       "<tr><td>DeepLearning_grid__2_AutoML_20210413_202418_model_1</td><td style=\"text-align: right;\">                0.141308</td><td style=\"text-align: right;\">0.375909</td><td style=\"text-align: right;\">0.141308</td><td style=\"text-align: right;\">0.281489</td><td style=\"text-align: right;\">0.267251</td><td style=\"text-align: right;\">              3462</td><td style=\"text-align: right;\">                 0.024519</td><td>DeepLearning   </td></tr>\n",
       "<tr><td>XGBoost_2_AutoML_20210413_202418                   </td><td style=\"text-align: right;\">                0.141383</td><td style=\"text-align: right;\">0.37601 </td><td style=\"text-align: right;\">0.141383</td><td style=\"text-align: right;\">0.269363</td><td style=\"text-align: right;\">0.271234</td><td style=\"text-align: right;\">               150</td><td style=\"text-align: right;\">                 0.003075</td><td>XGBoost        </td></tr>\n",
       "<tr><td>GLM_1_AutoML_20210413_202418                       </td><td style=\"text-align: right;\">                0.141422</td><td style=\"text-align: right;\">0.376061</td><td style=\"text-align: right;\">0.141422</td><td style=\"text-align: right;\">0.292655</td><td style=\"text-align: right;\">0.265791</td><td style=\"text-align: right;\">               292</td><td style=\"text-align: right;\">                 0.000748</td><td>GLM            </td></tr>\n",
       "<tr><td>XGBoost_3_AutoML_20210413_202418                   </td><td style=\"text-align: right;\">                0.141847</td><td style=\"text-align: right;\">0.376626</td><td style=\"text-align: right;\">0.141847</td><td style=\"text-align: right;\">0.256774</td><td style=\"text-align: right;\">0.268591</td><td style=\"text-align: right;\">               134</td><td style=\"text-align: right;\">                 0.002511</td><td>XGBoost        </td></tr>\n",
       "<tr><td>DeepLearning_1_AutoML_20210413_202418              </td><td style=\"text-align: right;\">                0.144756</td><td style=\"text-align: right;\">0.380469</td><td style=\"text-align: right;\">0.144756</td><td style=\"text-align: right;\">0.289738</td><td style=\"text-align: right;\">0.265993</td><td style=\"text-align: right;\">                87</td><td style=\"text-align: right;\">                 0.005963</td><td>DeepLearning   </td></tr>\n",
       "<tr><td>GBM_grid__1_AutoML_20210413_202418_model_3         </td><td style=\"text-align: right;\">                0.146791</td><td style=\"text-align: right;\">0.383133</td><td style=\"text-align: right;\">0.146791</td><td style=\"text-align: right;\">0.311465</td><td style=\"text-align: right;\">0.270424</td><td style=\"text-align: right;\">               100</td><td style=\"text-align: right;\">                 0.006894</td><td>GBM            </td></tr>\n",
       "<tr><td>GBM_5_AutoML_20210413_202418                       </td><td style=\"text-align: right;\">                0.147833</td><td style=\"text-align: right;\">0.384491</td><td style=\"text-align: right;\">0.147833</td><td style=\"text-align: right;\">0.304498</td><td style=\"text-align: right;\">0.271173</td><td style=\"text-align: right;\">               111</td><td style=\"text-align: right;\">                 0.005659</td><td>GBM            </td></tr>\n",
       "<tr><td>GBM_grid__1_AutoML_20210413_202418_model_2         </td><td style=\"text-align: right;\">                0.148233</td><td style=\"text-align: right;\">0.385011</td><td style=\"text-align: right;\">0.148233</td><td style=\"text-align: right;\">0.309384</td><td style=\"text-align: right;\">0.271459</td><td style=\"text-align: right;\">                97</td><td style=\"text-align: right;\">                 0.005419</td><td>GBM            </td></tr>\n",
       "<tr><td>XGBoost_grid__1_AutoML_20210413_202418_model_3     </td><td style=\"text-align: right;\">                0.153966</td><td style=\"text-align: right;\">0.392385</td><td style=\"text-align: right;\">0.153966</td><td style=\"text-align: right;\">0.283035</td><td style=\"text-align: right;\">0.282362</td><td style=\"text-align: right;\">               191</td><td style=\"text-align: right;\">                 0.003338</td><td>XGBoost        </td></tr>\n",
       "<tr><td>XGBoost_grid__1_AutoML_20210413_202418_model_1     </td><td style=\"text-align: right;\">                0.154557</td><td style=\"text-align: right;\">0.393137</td><td style=\"text-align: right;\">0.154557</td><td style=\"text-align: right;\">0.265148</td><td style=\"text-align: right;\">0.282856</td><td style=\"text-align: right;\">               184</td><td style=\"text-align: right;\">                 0.003353</td><td>XGBoost        </td></tr>\n",
       "<tr><td>XGBoost_grid__1_AutoML_20210413_202418_model_4     </td><td style=\"text-align: right;\">                0.155159</td><td style=\"text-align: right;\">0.393902</td><td style=\"text-align: right;\">0.155159</td><td style=\"text-align: right;\">0.263484</td><td style=\"text-align: right;\">0.282012</td><td style=\"text-align: right;\">               141</td><td style=\"text-align: right;\">                 0.003477</td><td>XGBoost        </td></tr>\n",
       "<tr><td>XGBoost_1_AutoML_20210413_202418                   </td><td style=\"text-align: right;\">                0.161593</td><td style=\"text-align: right;\">0.401986</td><td style=\"text-align: right;\">0.161593</td><td style=\"text-align: right;\">0.284856</td><td style=\"text-align: right;\">0.292138</td><td style=\"text-align: right;\">               163</td><td style=\"text-align: right;\">                 0.003321</td><td>XGBoost        </td></tr>\n",
       "<tr><td>XGBoost_grid__1_AutoML_20210413_202418_model_2     </td><td style=\"text-align: right;\">                0.17347 </td><td style=\"text-align: right;\">0.416498</td><td style=\"text-align: right;\">0.17347 </td><td style=\"text-align: right;\">0.281611</td><td style=\"text-align: right;\">0.298263</td><td style=\"text-align: right;\">               188</td><td style=\"text-align: right;\">                 0.004075</td><td>XGBoost        </td></tr>\n",
       "</tbody>\n",
       "</table>"
      ]
     },
     "metadata": {},
     "output_type": "display_data"
    },
    {
     "data": {
      "text/plain": []
     },
     "execution_count": 14,
     "metadata": {},
     "output_type": "execute_result"
    }
   ],
   "source": [
    "from h2o.automl import get_leaderboard\n",
    "\n",
    "lb2 = get_leaderboard(aml, extra_columns='ALL')\n",
    "\n",
    "lb2.head(rows=lb2.nrows)"
   ]
  },
  {
   "cell_type": "markdown",
   "id": "7b42eaef",
   "metadata": {},
   "source": [
    "Para coger los hiper-parametros de cada uno de los modelos de la tabla de clasificación hay que ejecutar lo siguiente:"
   ]
  },
  {
   "cell_type": "code",
   "execution_count": 15,
   "id": "904d89ca",
   "metadata": {},
   "outputs": [
    {
     "name": "stderr",
     "output_type": "stream",
     "text": [
      "/usr/local/lib/python3.7/site-packages/h2o/estimators/stackedensemble.py:836: H2ODeprecationWarning: The usage of stacked_ensemble.metalearner()['name'] will be deprecated. Metalearner now returns the metalearner object. If you need to get the 'name' please use stacked_ensemble.metalearner().model_id\n",
      "  H2ODeprecationWarning\n"
     ]
    },
    {
     "data": {
      "text/plain": [
       "{'Intercept': -0.013165336461905383,\n",
       " 'GBM_3_AutoML_20210413_202418': 0.3988927139256192,\n",
       " 'DeepLearning_grid__1_AutoML_20210413_202418_model_1': 0.3266477664816687,\n",
       " 'DRF_1_AutoML_20210413_202418': 0.0,\n",
       " 'XRT_1_AutoML_20210413_202418': 0.1110768840054754,\n",
       " 'XGBoost_grid__1_AutoML_20210413_202418_model_6': 0.09662306131745091,\n",
       " 'GLM_1_AutoML_20210413_202418': 0.07010965935503054}"
      ]
     },
     "execution_count": 15,
     "metadata": {},
     "output_type": "execute_result"
    }
   ],
   "source": [
    "# Get model ids for all models in the AutoML Leaderboard\n",
    "\n",
    "model_ids = list(aml.leaderboard['model_id'].as_data_frame().iloc[:,0])\n",
    "\n",
    "# Get the \"All Models\" Stacked Ensemble model\n",
    "\n",
    "se = h2o.get_model([mid for mid in model_ids if \"StackedEnsemble_BestOfFamily\" in mid][0])\n",
    "\n",
    "# Get the Stacked Ensemble metalearner model\n",
    "\n",
    "metalearner = h2o.get_model(se.metalearner()['name'])\n",
    "metalearner.coef()"
   ]
  },
  {
   "cell_type": "code",
   "execution_count": 16,
   "id": "63f5d62a",
   "metadata": {},
   "outputs": [
    {
     "name": "stderr",
     "output_type": "stream",
     "text": [
      "/usr/local/lib/python3.7/site-packages/matplotlib/cbook/__init__.py:424: MatplotlibDeprecationWarning: \n",
      "Passing one of 'on', 'true', 'off', 'false' as a boolean is deprecated; use an actual boolean (True/False) instead.\n",
      "  warn_deprecated(\"2.2\", \"Passing one of 'on', 'true', 'off', 'false' as a \"\n"
     ]
    },
    {
     "data": {
      "image/png": "[encoded data removed]",
      "text/plain": [
       "<Figure size 1008x720 with 1 Axes>"
      ]
     },
     "metadata": {
      "needs_background": "light"
     },
     "output_type": "display_data"
    }
   ],
   "source": [
    "metalearner.std_coef_plot()"
   ]
  },
  {
   "cell_type": "markdown",
   "id": "88985b2f",
   "metadata": {},
   "source": [
    "Ahora vamos a comprobar el rendimiento en nuestro dataset de pruebas"
   ]
  },
  {
   "cell_type": "code",
   "execution_count": 17,
   "id": "560ad9bd",
   "metadata": {},
   "outputs": [
    {
     "name": "stdout",
     "output_type": "stream",
     "text": [
      "\n",
      "ModelMetricsRegressionGLM: stackedensemble\n",
      "** Reported on test data. **\n",
      "\n",
      "MSE: 0.1326209848661906\n",
      "RMSE: 0.36417164204011077\n",
      "MAE: 0.2657143365490268\n",
      "RMSLE: 0.25429087989275706\n",
      "R^2: 0.44774970764111877\n",
      "Mean Residual Deviance: 0.1326209848661906\n",
      "Null degrees of freedom: 271\n",
      "Residual degrees of freedom: 262\n",
      "Null deviance: 65.480753521366\n",
      "Residual deviance: 36.07290788360384\n",
      "AIC: 244.3918538022507\n"
     ]
    },
    {
     "data": {
      "text/plain": []
     },
     "execution_count": 17,
     "metadata": {},
     "output_type": "execute_result"
    }
   ],
   "source": [
    "aml.leader.model_performance(test_data=test)"
   ]
  },
  {
   "cell_type": "code",
   "execution_count": null,
   "id": "bceaba5e",
   "metadata": {},
   "outputs": [],
   "source": [
    "#%matplotlib inline\n",
    "#aml.leader.model_performance(test_data=test).plot()"
   ]
  },
  {
   "cell_type": "code",
   "execution_count": 18,
   "id": "d0e31906",
   "metadata": {},
   "outputs": [
    {
     "name": "stdout",
     "output_type": "stream",
     "text": [
      "stackedensemble prediction progress: |████████████████████████████████████| 100%\n"
     ]
    },
    {
     "data": {
      "text/html": [
       "<table>\n",
       "<thead>\n",
       "<tr><th style=\"text-align: right;\">  predict</th></tr>\n",
       "</thead>\n",
       "<tbody>\n",
       "<tr><td style=\"text-align: right;\">0.558313 </td></tr>\n",
       "<tr><td style=\"text-align: right;\">0.0433985</td></tr>\n",
       "<tr><td style=\"text-align: right;\">0.331343 </td></tr>\n",
       "<tr><td style=\"text-align: right;\">0.854634 </td></tr>\n",
       "<tr><td style=\"text-align: right;\">0.825895 </td></tr>\n",
       "<tr><td style=\"text-align: right;\">0.170872 </td></tr>\n",
       "<tr><td style=\"text-align: right;\">0.114915 </td></tr>\n",
       "<tr><td style=\"text-align: right;\">0.153237 </td></tr>\n",
       "<tr><td style=\"text-align: right;\">0.509455 </td></tr>\n",
       "<tr><td style=\"text-align: right;\">0.164644 </td></tr>\n",
       "</tbody>\n",
       "</table>"
      ]
     },
     "metadata": {},
     "output_type": "display_data"
    },
    {
     "data": {
      "text/plain": []
     },
     "execution_count": 18,
     "metadata": {},
     "output_type": "execute_result"
    }
   ],
   "source": [
    "# Lastly, let's make some predictions on our test set.\n",
    "\n",
    "\n",
    "pred = aml.predict(test)\n",
    "\n",
    "pred.head()"
   ]
  },
  {
   "cell_type": "markdown",
   "id": "c401b6ee",
   "metadata": {},
   "source": [
    "También puede guardar y descargar el modelo y utilizarlo para desplegarlo en producción."
   ]
  },
  {
   "cell_type": "code",
   "execution_count": null,
   "id": "033f802e",
   "metadata": {},
   "outputs": [],
   "source": [
    "h2o.save_model(aml.leader, path=\"./output\")"
   ]
  },
  {
   "cell_type": "markdown",
   "id": "85519bdb",
   "metadata": {},
   "source": [
    "### Ventajas:\n",
    "\n",
    "    - Muy intuitivo y con muchas opciones personalizadas para construir modelos\n",
    "    \n",
    "    - El uso de H20 Flow en la interfaz web permite desarrollar y compartir rápidamente el modelo \n",
    "\n",
    "    - Más rápido que otros frameworks\n",
    "    \n",
    "    - Cuenta con una gran cantidad de documentación\n",
    "\n",
    " \n",
    "### Contras:\n",
    "\n",
    "    - No cuenta con muchas opciones de DL "
   ]
  }
 ],
 "metadata": {
  "kernelspec": {
   "display_name": "Python 3",
   "language": "python",
   "name": "python3"
  },
  "language_info": {
   "codemirror_mode": {
    "name": "ipython",
    "version": 3
   },
   "file_extension": ".py",
   "mimetype": "text/x-python",
   "name": "python",
   "nbconvert_exporter": "python",
   "pygments_lexer": "ipython3",
   "version": "3.8.8"
  }
 },
 "nbformat": 4,
 "nbformat_minor": 5
}
